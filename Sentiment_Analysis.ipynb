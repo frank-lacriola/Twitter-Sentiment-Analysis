{
  "cells": [
    {
      "cell_type": "code",
      "execution_count": null,
      "metadata": {
        "colab": {
          "base_uri": "https://localhost:8080/"
        },
        "id": "I1Hl51BlcKBO",
        "outputId": "edc711ec-5e18-4557-9878-b5b4316e1bec"
      },
      "outputs": [
        {
          "name": "stdout",
          "output_type": "stream",
          "text": [
            "--2022-01-20 18:47:08--  https://dbdmg.polito.it/dbdmg_web/wp-content/uploads/2021/12/DSL2122_january_dataset.zip\n",
            "Resolving dbdmg.polito.it (dbdmg.polito.it)... 130.192.163.163\n",
            "Connecting to dbdmg.polito.it (dbdmg.polito.it)|130.192.163.163|:443... connected.\n",
            "HTTP request sent, awaiting response... 200 OK\n",
            "Length: 18640208 (18M) [application/zip]\n",
            "Saving to: ‘DSL2122_january_dataset.zip’\n",
            "\n",
            "DSL2122_january_dat 100%[===================>]  17.78M  12.5MB/s    in 1.4s    \n",
            "\n",
            "2022-01-20 18:47:11 (12.5 MB/s) - ‘DSL2122_january_dataset.zip’ saved [18640208/18640208]\n",
            "\n"
          ]
        }
      ],
      "source": [
        "!wget https://dbdmg.polito.it/dbdmg_web/wp-content/uploads/2021/12/DSL2122_january_dataset.zip"
      ]
    },
    {
      "cell_type": "code",
      "execution_count": null,
      "metadata": {
        "colab": {
          "base_uri": "https://localhost:8080/"
        },
        "id": "ywa0_RkVcvMi",
        "jupyter": {
          "outputs_hidden": true
        },
        "outputId": "9bc16426-de92-478d-edb7-bceaca3f38ea"
      },
      "outputs": [
        {
          "name": "stdout",
          "output_type": "stream",
          "text": [
            "Archive:  DSL2122_january_dataset.zip\n",
            "   creating: DSL2122_january_dataset/\n",
            "  inflating: DSL2122_january_dataset/development.csv  \n",
            "  inflating: __MACOSX/DSL2122_january_dataset/._development.csv  \n",
            "  inflating: DSL2122_january_dataset/sample_submission.csv  \n",
            "  inflating: __MACOSX/DSL2122_january_dataset/._sample_submission.csv  \n",
            "  inflating: DSL2122_january_dataset/evaluation.csv  \n",
            "  inflating: __MACOSX/DSL2122_january_dataset/._evaluation.csv  \n"
          ]
        }
      ],
      "source": [
        "!unzip DSL2122_january_dataset.zip"
      ]
    },
    {
      "cell_type": "code",
      "execution_count": null,
      "metadata": {
        "id": "MCtdhH8scz1k"
      },
      "outputs": [],
      "source": [
        "# Matplotlib\n",
        "import seaborn as sns\n",
        "import matplotlib.pyplot as plt\n",
        "import matplotlib.dates\n",
        "%matplotlib inline\n",
        "\n",
        "\n",
        "# Scikit-learn\n",
        "from sklearn.model_selection import train_test_split, cross_val_score\n",
        "from sklearn.preprocessing import LabelEncoder\n",
        "from sklearn.metrics import plot_confusion_matrix, confusion_matrix, classification_report, \\\n",
        " accuracy_score, f1_score, precision_score, recall_score, plot_roc_curve\n",
        "from sklearn.feature_extraction.text import TfidfVectorizer\n",
        "from sklearn.tree import DecisionTreeClassifier\n",
        "from sklearn.ensemble import RandomForestClassifier\n",
        "from sklearn.pipeline import Pipeline\n",
        "from sklearn.model_selection import StratifiedKFold, GridSearchCV\n",
        "from sklearn.svm import LinearSVC, SVC\n",
        "from sklearn.linear_model import LogisticRegression\n",
        "from sklearn.pipeline import Pipeline\n",
        "from sklearn.compose import ColumnTransformer\n",
        "from imblearn.over_sampling import SMOTE\n",
        "\n",
        "\n",
        "# nltk\n",
        "import nltk\n",
        "from nltk.tokenize import word_tokenize, WordPunctTokenizer, TweetTokenizer\n",
        "from nltk.stem.wordnet import WordNetLemmatizer\n",
        "from nltk.corpus import stopwords\n",
        "from nltk.stem.porter import *\n",
        "\n",
        "\n",
        "# Utilities\n",
        "import re\n",
        "import numpy as np\n",
        "import pandas as pd\n",
        "import os\n",
        "from collections import Counter\n",
        "import time\n",
        "from bs4 import BeautifulSoup\n",
        "import datetime as dt\n",
        "from prettytable import PrettyTable\n",
        "from wordcloud import WordCloud, STOPWORDS, ImageColorGenerator"
      ]
    },
    {
      "cell_type": "code",
      "execution_count": null,
      "metadata": {
        "id": "Exq5q9Bt4vHg"
      },
      "outputs": [],
      "source": [
        "nltk.download('stopwords')\n",
        "nltk.download('punkt')\n",
        "nltk.download('wordnet') "
      ]
    },
    {
      "cell_type": "markdown",
      "metadata": {
        "id": "Ot0vsGheu4dt"
      },
      "source": [
        "We load our data using pandas' dataframe."
      ]
    },
    {
      "cell_type": "code",
      "execution_count": null,
      "metadata": {
        "colab": {
          "base_uri": "https://localhost:8080/"
        },
        "id": "v0Ouiq35c-KG",
        "outputId": "6285b4f5-8185-4de5-956b-3d055ff1c99b"
      },
      "outputs": [
        {
          "name": "stderr",
          "output_type": "stream",
          "text": [
            "/usr/local/lib/python3.7/dist-packages/dateutil/parser/_parser.py:1212: UnknownTimezoneWarning: tzname PDT identified but not understood.  Pass `tzinfos` argument in order to correctly return a timezone-aware datetime.  In a future version, this will raise an exception.\n",
            "  category=UnknownTimezoneWarning)\n"
          ]
        }
      ],
      "source": [
        "df = pd.read_csv(\"DSL2122_january_dataset/development.csv\", infer_datetime_format=True, parse_dates=[\"date\"], encoding='latin-1') # Developing dataframe"
      ]
    },
    {
      "cell_type": "markdown",
      "metadata": {
        "id": "UELMU-UkvNmj"
      },
      "source": [
        "The flag *infer_datatime_format* is set to True to easily parse the column date, as we specify it with the *parse_dates* argument."
      ]
    },
    {
      "cell_type": "code",
      "execution_count": null,
      "metadata": {
        "id": "himo4VyowMm0"
      },
      "outputs": [],
      "source": [
        "eval_df = pd.read_csv(\"DSL2122_january_dataset/evaluation.csv\", encoding='latin-1')"
      ]
    },
    {
      "cell_type": "code",
      "execution_count": null,
      "metadata": {
        "id": "4Ijo5ANgsNdE"
      },
      "outputs": [],
      "source": [
        "# we'll use the combination of the two datasets to fit the TFIDF Vectorizer\n",
        "df_merged = pd.concat([pd.read_csv(\"DSL2122_january_dataset/development.csv\", encoding='latin-1'), pd.read_csv(\"DSL2122_january_dataset/evaluation.csv\", encoding='latin-1')])"
      ]
    },
    {
      "cell_type": "markdown",
      "metadata": {
        "id": "JT1k-A-0sFwT"
      },
      "source": [
        "# Exploratory Data Analysis (EDA)\n",
        "\n"
      ]
    },
    {
      "cell_type": "code",
      "execution_count": null,
      "metadata": {
        "id": "fVvVXxrQdCvz"
      },
      "outputs": [],
      "source": [
        "df.head()"
      ]
    },
    {
      "cell_type": "markdown",
      "metadata": {
        "id": "0UXJHZHjmLAd"
      },
      "source": [
        "We drop duplicated rows because they are useless in our analysis and  we can often find them in this kind of datasets taken from rich sources."
      ]
    },
    {
      "cell_type": "code",
      "execution_count": null,
      "metadata": {
        "colab": {
          "base_uri": "https://localhost:8080/"
        },
        "id": "XVYDp7Lfl9r4",
        "outputId": "c75e63fe-4ead-4789-899b-8133351b9e6b"
      },
      "outputs": [
        {
          "name": "stdout",
          "output_type": "stream",
          "text": [
            "Shape before dropping duplicates:  (224994, 6)\n",
            "Shape after dropping duplicates:  (224994, 6)\n"
          ]
        }
      ],
      "source": [
        "print('Shape before dropping duplicates: ', df.shape)\n",
        "df = df.drop_duplicates() # Duplicates\n",
        "print('Shape after dropping duplicates: ', df.shape)"
      ]
    },
    {
      "cell_type": "code",
      "execution_count": null,
      "metadata": {
        "colab": {
          "base_uri": "https://localhost:8080/"
        },
        "id": "oUbj-x_adIfn",
        "outputId": "75a72c33-f8fb-48c8-fea3-406863342221"
      },
      "outputs": [
        {
          "name": "stdout",
          "output_type": "stream",
          "text": [
            "<class 'pandas.core.frame.DataFrame'>\n",
            "Int64Index: 224994 entries, 0 to 224993\n",
            "Data columns (total 6 columns):\n",
            " #   Column     Non-Null Count   Dtype         \n",
            "---  ------     --------------   -----         \n",
            " 0   sentiment  224994 non-null  int64         \n",
            " 1   ids        224994 non-null  int64         \n",
            " 2   date       224994 non-null  datetime64[ns]\n",
            " 3   flag       224994 non-null  object        \n",
            " 4   user       224994 non-null  object        \n",
            " 5   text       224994 non-null  object        \n",
            "dtypes: datetime64[ns](1), int64(2), object(3)\n",
            "memory usage: 12.0+ MB\n"
          ]
        }
      ],
      "source": [
        "df.info()"
      ]
    },
    {
      "cell_type": "code",
      "execution_count": null,
      "metadata": {
        "colab": {
          "base_uri": "https://localhost:8080/"
        },
        "id": "VTvapmCer4jO",
        "outputId": "134321c2-08c0-4801-9f1f-88ef2849adcc"
      },
      "outputs": [
        {
          "name": "stdout",
          "output_type": "stream",
          "text": [
            "<class 'pandas.core.frame.DataFrame'>\n",
            "RangeIndex: 74999 entries, 0 to 74998\n",
            "Data columns (total 5 columns):\n",
            " #   Column  Non-Null Count  Dtype \n",
            "---  ------  --------------  ----- \n",
            " 0   ids     74999 non-null  int64 \n",
            " 1   date    74999 non-null  object\n",
            " 2   flag    74999 non-null  object\n",
            " 3   user    74999 non-null  object\n",
            " 4   text    74999 non-null  object\n",
            "dtypes: int64(1), object(4)\n",
            "memory usage: 2.9+ MB\n"
          ]
        }
      ],
      "source": [
        "eval_df.info()"
      ]
    },
    {
      "cell_type": "markdown",
      "metadata": {
        "id": "5gGB5KRCu4d0"
      },
      "source": [
        "Since there are not null values in our dataframes, we won't need to handle missing values."
      ]
    },
    {
      "cell_type": "code",
      "execution_count": null,
      "metadata": {
        "colab": {
          "base_uri": "https://localhost:8080/"
        },
        "id": "xXKEgqjPras-",
        "outputId": "4081b3a5-2307-4bfc-ec9a-8a99cab06495"
      },
      "outputs": [
        {
          "data": {
            "text/plain": [
              "(10647,)"
            ]
          },
          "execution_count": 60,
          "metadata": {},
          "output_type": "execute_result"
        }
      ],
      "source": [
        "df.user.unique().shape"
      ]
    },
    {
      "cell_type": "code",
      "execution_count": null,
      "metadata": {
        "colab": {
          "base_uri": "https://localhost:8080/"
        },
        "id": "dUSGSjAGrz87",
        "jupyter": {
          "outputs_hidden": true
        },
        "outputId": "550ecb15-5625-4830-a4b1-ee8a12c91ae3"
      },
      "outputs": [
        {
          "data": {
            "text/plain": [
              "(10647,)"
            ]
          },
          "execution_count": 115,
          "metadata": {},
          "output_type": "execute_result"
        }
      ],
      "source": [
        "eval_df.user.unique().shape"
      ]
    },
    {
      "cell_type": "markdown",
      "metadata": {
        "id": "e6cjkrn3u4d1"
      },
      "source": [
        "Usernames for both datasets are in the same number, we'll try to use user as a feature for our model as we expect some correlation between them and the sentiment"
      ]
    },
    {
      "cell_type": "code",
      "execution_count": null,
      "metadata": {
        "colab": {
          "base_uri": "https://localhost:8080/"
        },
        "id": "3I0Iifnou4d2",
        "outputId": "ac22f7a9-ab3a-4f4c-840c-45372d526ff7"
      },
      "outputs": [
        {
          "data": {
            "text/plain": [
              "array(['NO_QUERY'], dtype=object)"
            ]
          },
          "execution_count": 62,
          "metadata": {},
          "output_type": "execute_result"
        }
      ],
      "source": [
        "df.flag.unique()"
      ]
    },
    {
      "cell_type": "markdown",
      "metadata": {
        "id": "2KU4nNHKu4d3"
      },
      "source": [
        "There's only a value for the column flag, this won't be a useful feature"
      ]
    },
    {
      "cell_type": "code",
      "execution_count": null,
      "metadata": {
        "colab": {
          "base_uri": "https://localhost:8080/"
        },
        "id": "5EQLdcMl0Msx",
        "outputId": "35ca2d30-6f7f-4902-e47c-dff707d30e35"
      },
      "outputs": [
        {
          "data": {
            "text/plain": [
              "(224716,)"
            ]
          },
          "execution_count": 5,
          "metadata": {},
          "output_type": "execute_result"
        }
      ],
      "source": [
        "df.ids.unique().shape"
      ]
    },
    {
      "cell_type": "code",
      "execution_count": null,
      "metadata": {
        "colab": {
          "base_uri": "https://localhost:8080/",
          "height": 423
        },
        "id": "TiQPXDGl0ue1",
        "outputId": "5d47cf7b-7ebb-4f6d-e00e-509f79bd09be"
      },
      "outputs": [
        {
          "data": {
            "text/html": [
              "\n",
              "  <div id=\"df-d981794b-4aca-45e3-9c3f-7058edd86c8e\">\n",
              "    <div class=\"colab-df-container\">\n",
              "      <div>\n",
              "<style scoped>\n",
              "    .dataframe tbody tr th:only-of-type {\n",
              "        vertical-align: middle;\n",
              "    }\n",
              "\n",
              "    .dataframe tbody tr th {\n",
              "        vertical-align: top;\n",
              "    }\n",
              "\n",
              "    .dataframe thead th {\n",
              "        text-align: right;\n",
              "    }\n",
              "</style>\n",
              "<table border=\"1\" class=\"dataframe\">\n",
              "  <thead>\n",
              "    <tr style=\"text-align: right;\">\n",
              "      <th></th>\n",
              "      <th>sentiment</th>\n",
              "      <th>ids</th>\n",
              "      <th>date</th>\n",
              "      <th>flag</th>\n",
              "      <th>user</th>\n",
              "      <th>text</th>\n",
              "    </tr>\n",
              "  </thead>\n",
              "  <tbody>\n",
              "    <tr>\n",
              "      <th>210646</th>\n",
              "      <td>1</td>\n",
              "      <td>1468503801</td>\n",
              "      <td>2009-04-07 02:04:18</td>\n",
              "      <td>NO_QUERY</td>\n",
              "      <td>tinknevertalks</td>\n",
              "      <td>@redtoffee Strawberry is the absolute best Ang...</td>\n",
              "    </tr>\n",
              "    <tr>\n",
              "      <th>195980</th>\n",
              "      <td>0</td>\n",
              "      <td>1468503801</td>\n",
              "      <td>2009-04-07 02:04:18</td>\n",
              "      <td>NO_QUERY</td>\n",
              "      <td>tinknevertalks</td>\n",
              "      <td>@redtoffee Strawberry is the absolute best Ang...</td>\n",
              "    </tr>\n",
              "    <tr>\n",
              "      <th>36472</th>\n",
              "      <td>0</td>\n",
              "      <td>1468652839</td>\n",
              "      <td>2009-04-07 02:58:23</td>\n",
              "      <td>NO_QUERY</td>\n",
              "      <td>revjesse</td>\n",
              "      <td>@ecaps1 bloody idiot!!   just shop him into so...</td>\n",
              "    </tr>\n",
              "    <tr>\n",
              "      <th>34279</th>\n",
              "      <td>1</td>\n",
              "      <td>1468652839</td>\n",
              "      <td>2009-04-07 02:58:23</td>\n",
              "      <td>NO_QUERY</td>\n",
              "      <td>revjesse</td>\n",
              "      <td>@ecaps1 bloody idiot!!   just shop him into so...</td>\n",
              "    </tr>\n",
              "    <tr>\n",
              "      <th>189102</th>\n",
              "      <td>0</td>\n",
              "      <td>1469267615</td>\n",
              "      <td>2009-04-07 05:49:29</td>\n",
              "      <td>NO_QUERY</td>\n",
              "      <td>davideggleton</td>\n",
              "      <td>Today is very cold, so cold I may have to star...</td>\n",
              "    </tr>\n",
              "    <tr>\n",
              "      <th>...</th>\n",
              "      <td>...</td>\n",
              "      <td>...</td>\n",
              "      <td>...</td>\n",
              "      <td>...</td>\n",
              "      <td>...</td>\n",
              "      <td>...</td>\n",
              "    </tr>\n",
              "    <tr>\n",
              "      <th>36574</th>\n",
              "      <td>1</td>\n",
              "      <td>2190936117</td>\n",
              "      <td>2009-06-16 04:07:10</td>\n",
              "      <td>NO_QUERY</td>\n",
              "      <td>Elliethinks</td>\n",
              "      <td>@iampsychic awh  I'LL BE THERE!</td>\n",
              "    </tr>\n",
              "    <tr>\n",
              "      <th>196428</th>\n",
              "      <td>1</td>\n",
              "      <td>2191418783</td>\n",
              "      <td>2009-06-16 05:14:05</td>\n",
              "      <td>NO_QUERY</td>\n",
              "      <td>Kazcita</td>\n",
              "      <td>@Bass_ I'd appreciate one if you can rustle it...</td>\n",
              "    </tr>\n",
              "    <tr>\n",
              "      <th>65499</th>\n",
              "      <td>0</td>\n",
              "      <td>2191418783</td>\n",
              "      <td>2009-06-16 05:14:05</td>\n",
              "      <td>NO_QUERY</td>\n",
              "      <td>Kazcita</td>\n",
              "      <td>@Bass_ I'd appreciate one if you can rustle it...</td>\n",
              "    </tr>\n",
              "    <tr>\n",
              "      <th>144748</th>\n",
              "      <td>1</td>\n",
              "      <td>2191714137</td>\n",
              "      <td>2009-06-16 05:50:01</td>\n",
              "      <td>NO_QUERY</td>\n",
              "      <td>drthomasho</td>\n",
              "      <td>@BigDaveP I can't get over that Letterman is f...</td>\n",
              "    </tr>\n",
              "    <tr>\n",
              "      <th>2587</th>\n",
              "      <td>0</td>\n",
              "      <td>2191714137</td>\n",
              "      <td>2009-06-16 05:50:01</td>\n",
              "      <td>NO_QUERY</td>\n",
              "      <td>drthomasho</td>\n",
              "      <td>@BigDaveP I can't get over that Letterman is f...</td>\n",
              "    </tr>\n",
              "  </tbody>\n",
              "</table>\n",
              "<p>556 rows × 6 columns</p>\n",
              "</div>\n",
              "      <button class=\"colab-df-convert\" onclick=\"convertToInteractive('df-d981794b-4aca-45e3-9c3f-7058edd86c8e')\"\n",
              "              title=\"Convert this dataframe to an interactive table.\"\n",
              "              style=\"display:none;\">\n",
              "        \n",
              "  <svg xmlns=\"http://www.w3.org/2000/svg\" height=\"24px\"viewBox=\"0 0 24 24\"\n",
              "       width=\"24px\">\n",
              "    <path d=\"M0 0h24v24H0V0z\" fill=\"none\"/>\n",
              "    <path d=\"M18.56 5.44l.94 2.06.94-2.06 2.06-.94-2.06-.94-.94-2.06-.94 2.06-2.06.94zm-11 1L8.5 8.5l.94-2.06 2.06-.94-2.06-.94L8.5 2.5l-.94 2.06-2.06.94zm10 10l.94 2.06.94-2.06 2.06-.94-2.06-.94-.94-2.06-.94 2.06-2.06.94z\"/><path d=\"M17.41 7.96l-1.37-1.37c-.4-.4-.92-.59-1.43-.59-.52 0-1.04.2-1.43.59L10.3 9.45l-7.72 7.72c-.78.78-.78 2.05 0 2.83L4 21.41c.39.39.9.59 1.41.59.51 0 1.02-.2 1.41-.59l7.78-7.78 2.81-2.81c.8-.78.8-2.07 0-2.86zM5.41 20L4 18.59l7.72-7.72 1.47 1.35L5.41 20z\"/>\n",
              "  </svg>\n",
              "      </button>\n",
              "      \n",
              "  <style>\n",
              "    .colab-df-container {\n",
              "      display:flex;\n",
              "      flex-wrap:wrap;\n",
              "      gap: 12px;\n",
              "    }\n",
              "\n",
              "    .colab-df-convert {\n",
              "      background-color: #E8F0FE;\n",
              "      border: none;\n",
              "      border-radius: 50%;\n",
              "      cursor: pointer;\n",
              "      display: none;\n",
              "      fill: #1967D2;\n",
              "      height: 32px;\n",
              "      padding: 0 0 0 0;\n",
              "      width: 32px;\n",
              "    }\n",
              "\n",
              "    .colab-df-convert:hover {\n",
              "      background-color: #E2EBFA;\n",
              "      box-shadow: 0px 1px 2px rgba(60, 64, 67, 0.3), 0px 1px 3px 1px rgba(60, 64, 67, 0.15);\n",
              "      fill: #174EA6;\n",
              "    }\n",
              "\n",
              "    [theme=dark] .colab-df-convert {\n",
              "      background-color: #3B4455;\n",
              "      fill: #D2E3FC;\n",
              "    }\n",
              "\n",
              "    [theme=dark] .colab-df-convert:hover {\n",
              "      background-color: #434B5C;\n",
              "      box-shadow: 0px 1px 3px 1px rgba(0, 0, 0, 0.15);\n",
              "      filter: drop-shadow(0px 1px 2px rgba(0, 0, 0, 0.3));\n",
              "      fill: #FFFFFF;\n",
              "    }\n",
              "  </style>\n",
              "\n",
              "      <script>\n",
              "        const buttonEl =\n",
              "          document.querySelector('#df-d981794b-4aca-45e3-9c3f-7058edd86c8e button.colab-df-convert');\n",
              "        buttonEl.style.display =\n",
              "          google.colab.kernel.accessAllowed ? 'block' : 'none';\n",
              "\n",
              "        async function convertToInteractive(key) {\n",
              "          const element = document.querySelector('#df-d981794b-4aca-45e3-9c3f-7058edd86c8e');\n",
              "          const dataTable =\n",
              "            await google.colab.kernel.invokeFunction('convertToInteractive',\n",
              "                                                     [key], {});\n",
              "          if (!dataTable) return;\n",
              "\n",
              "          const docLinkHtml = 'Like what you see? Visit the ' +\n",
              "            '<a target=\"_blank\" href=https://colab.research.google.com/notebooks/data_table.ipynb>data table notebook</a>'\n",
              "            + ' to learn more about interactive tables.';\n",
              "          element.innerHTML = '';\n",
              "          dataTable['output_type'] = 'display_data';\n",
              "          await google.colab.output.renderOutput(dataTable, element);\n",
              "          const docLink = document.createElement('div');\n",
              "          docLink.innerHTML = docLinkHtml;\n",
              "          element.appendChild(docLink);\n",
              "        }\n",
              "      </script>\n",
              "    </div>\n",
              "  </div>\n",
              "  "
            ],
            "text/plain": [
              "        sentiment  ...                                               text\n",
              "210646          1  ...  @redtoffee Strawberry is the absolute best Ang...\n",
              "195980          0  ...  @redtoffee Strawberry is the absolute best Ang...\n",
              "36472           0  ...  @ecaps1 bloody idiot!!   just shop him into so...\n",
              "34279           1  ...  @ecaps1 bloody idiot!!   just shop him into so...\n",
              "189102          0  ...  Today is very cold, so cold I may have to star...\n",
              "...           ...  ...                                                ...\n",
              "36574           1  ...                   @iampsychic awh  I'LL BE THERE! \n",
              "196428          1  ...  @Bass_ I'd appreciate one if you can rustle it...\n",
              "65499           0  ...  @Bass_ I'd appreciate one if you can rustle it...\n",
              "144748          1  ...  @BigDaveP I can't get over that Letterman is f...\n",
              "2587            0  ...  @BigDaveP I can't get over that Letterman is f...\n",
              "\n",
              "[556 rows x 6 columns]"
            ]
          },
          "execution_count": 9,
          "metadata": {},
          "output_type": "execute_result"
        }
      ],
      "source": [
        "df.groupby('ids').filter(lambda g: len(g) > 1).sort_values(by='ids')"
      ]
    },
    {
      "cell_type": "code",
      "execution_count": null,
      "metadata": {
        "colab": {
          "base_uri": "https://localhost:8080/"
        },
        "id": "bpyrPU7N2UVU",
        "outputId": "2164061d-ed4e-42f0-a57d-50622e5cba2d"
      },
      "outputs": [
        {
          "data": {
            "text/plain": [
              "(556, 6)"
            ]
          },
          "execution_count": 10,
          "metadata": {},
          "output_type": "execute_result"
        }
      ],
      "source": [
        "df.groupby('ids').filter(lambda g: len(g) > 1).shape"
      ]
    },
    {
      "cell_type": "code",
      "execution_count": null,
      "metadata": {
        "id": "IKGHB9Ow9gCi"
      },
      "outputs": [],
      "source": [
        "df.drop(df.groupby('ids').filter(lambda g: len(g) > 1).index, axis=0, inplace=True)"
      ]
    },
    {
      "cell_type": "code",
      "execution_count": null,
      "metadata": {
        "colab": {
          "base_uri": "https://localhost:8080/"
        },
        "id": "lxDN7_Yl90sj",
        "outputId": "5c94fedf-e830-486c-83a6-fc06d3385438"
      },
      "outputs": [
        {
          "data": {
            "text/plain": [
              "(224438, 6)"
            ]
          },
          "execution_count": 15,
          "metadata": {},
          "output_type": "execute_result"
        }
      ],
      "source": [
        "df.shape"
      ]
    },
    {
      "cell_type": "markdown",
      "metadata": {
        "id": "InhXCYlh9rrB"
      },
      "source": [
        "We found out records with the same id but different labels"
      ]
    },
    {
      "cell_type": "markdown",
      "metadata": {
        "id": "X-bl949InY9o"
      },
      "source": [
        "Let's see if there's some imbalancing:"
      ]
    },
    {
      "cell_type": "code",
      "execution_count": null,
      "metadata": {
        "colab": {
          "base_uri": "https://localhost:8080/"
        },
        "id": "y9MTJUKnzFHX",
        "outputId": "a7960d8b-6226-42fc-b6ac-ecc756c84477"
      },
      "outputs": [
        {
          "data": {
            "text/plain": [
              "1    130157\n",
              "0     94837\n",
              "Name: sentiment, dtype: int64"
            ]
          },
          "execution_count": 124,
          "metadata": {},
          "output_type": "execute_result"
        }
      ],
      "source": [
        "df.sentiment.value_counts()"
      ]
    },
    {
      "cell_type": "code",
      "execution_count": null,
      "metadata": {
        "colab": {
          "base_uri": "https://localhost:8080/",
          "height": 406
        },
        "id": "sz9AH2nVdKWK",
        "outputId": "7c7416c4-ff5c-485a-c1a0-e34b893fe3ae"
      },
      "outputs": [
        {
          "data": {
            "text/plain": [
              "<matplotlib.axes._subplots.AxesSubplot at 0x7f8be1a34a90>"
            ]
          },
          "execution_count": null,
          "metadata": {},
          "output_type": "execute_result"
        },
        {
          "data": {
            "image/png": "[encoded data removed]",
            "text/plain": [
              "<Figure size 576x432 with 1 Axes>"
            ]
          },
          "metadata": {},
          "output_type": "display_data"
        }
      ],
      "source": [
        "plt.figure(figsize=(8,6))\n",
        "sns.countplot(x='sentiment', data=df)"
      ]
    },
    {
      "cell_type": "markdown",
      "metadata": {
        "id": "VahxIbRxu4d4"
      },
      "source": [
        "This kind of imbalancing might be a concern."
      ]
    },
    {
      "cell_type": "code",
      "execution_count": null,
      "metadata": {
        "colab": {
          "base_uri": "https://localhost:8080/",
          "height": 309
        },
        "id": "zsktW7cZu4d5",
        "outputId": "59f69580-6f52-4c8b-8744-fa759afc1477"
      },
      "outputs": [
        {
          "name": "stderr",
          "output_type": "stream",
          "text": [
            "/opt/anaconda3/envs/bigdatalab_cpu_202101/lib/python3.7/site-packages/matplotlib/cbook/__init__.py:1402: FutureWarning: Support for multi-dimensional indexing (e.g. `obj[:, None]`) is deprecated and will be removed in a future version.  Convert to a numpy array before indexing instead.\n",
            "  ndim = x[:, None].ndim\n",
            "/opt/anaconda3/envs/bigdatalab_cpu_202101/lib/python3.7/site-packages/matplotlib/axes/_base.py:278: FutureWarning: Support for multi-dimensional indexing (e.g. `obj[:, None]`) is deprecated and will be removed in a future version.  Convert to a numpy array before indexing instead.\n",
            "  y = y[:, np.newaxis]\n"
          ]
        },
        {
          "data": {
            "image/png": "[encoded data removed]",
            "text/plain": [
              "<Figure size 864x360 with 1 Axes>"
            ]
          },
          "metadata": {
            "needs_background": "light"
          },
          "output_type": "display_data"
        }
      ],
      "source": [
        "x_values = df.date\n",
        "y_values = df.sentiment\n",
        "\n",
        "dates = matplotlib.dates.date2num(x_values)\n",
        "plt.figure(figsize=(12, 5))\n",
        "plt.title('Date-label plot')\n",
        "plt.plot_date(dates, y_values)\n",
        "plt.savefig('date_plot.png')"
      ]
    },
    {
      "cell_type": "markdown",
      "metadata": {
        "id": "EXXIJxAdu4d5"
      },
      "source": [
        "As we can see, for certain time periods there could be some correletion between dates and sentiments."
      ]
    },
    {
      "cell_type": "code",
      "execution_count": null,
      "metadata": {
        "id": "hQLIjRKOoL1h",
        "outputId": "2f08e3fc-d0ba-4b9b-9f94-b85958ffb921"
      },
      "outputs": [
        {
          "data": {
            "image/png": "[encoded data removed]",
            "text/plain": [
              "<Figure size 1008x576 with 1 Axes>"
            ]
          },
          "metadata": {
            "needs_background": "light"
          },
          "output_type": "display_data"
        }
      ],
      "source": [
        "df_neg = df.query('sentiment==0')\n",
        "df_pos = df.query('sentiment==1')\n",
        "\n",
        "\n",
        "neg_freq = df_neg['date'].dt.date.value_counts().rename('negative tweets frequencies')\n",
        "pos_freq = df_pos['date'].dt.date.value_counts().rename('positive tweets frequencies')\n",
        "\n",
        "freq = pd.concat([neg_freq, pos_freq], axis=1)\n",
        "fig = freq.plot.bar(figsize=(14, 8), title='Date-sentiment distribution').get_figure()\n",
        "fig.savefig('dates_double_bar.jpg')"
      ]
    },
    {
      "cell_type": "code",
      "execution_count": null,
      "metadata": {
        "id": "2k6CpXgqoL1i",
        "outputId": "83bdcab2-2c95-4e6b-bf3c-85bc6db7f680"
      },
      "outputs": [
        {
          "data": {
            "image/png": "[encoded data removed]",
            "text/plain": [
              "<Figure size 720x432 with 1 Axes>"
            ]
          },
          "metadata": {
            "needs_background": "light"
          },
          "output_type": "display_data"
        }
      ],
      "source": [
        "df_neg = df.query('sentiment==0')\n",
        "df_pos = df.query('sentiment==1')\n",
        "\n",
        "\n",
        "neg_freq = df_neg['date'].dt.day.value_counts().rename('negative frequencies')\n",
        "pos_freq = df_pos['date'].dt.day.value_counts().rename('positive frequencies')\n",
        "\n",
        "freq = pd.concat([neg_freq, pos_freq], axis=1)\n",
        "fig = freq.plot.bar(figsize=(10, 6), title='Day-sentiment distribution').get_figure()\n",
        "fig.savefig('day_double_bar.png')"
      ]
    },
    {
      "cell_type": "code",
      "execution_count": null,
      "metadata": {
        "colab": {
          "base_uri": "https://localhost:8080/",
          "height": 402
        },
        "id": "57j7vGswDnhd",
        "outputId": "b7dcd5f2-c338-4987-bd0d-be4894859e0f"
      },
      "outputs": [
        {
          "data": {
            "image/png": "[encoded data removed]",
            "text/plain": [
              "<Figure size 720x432 with 1 Axes>"
            ]
          },
          "metadata": {
            "needs_background": "light"
          },
          "output_type": "display_data"
        }
      ],
      "source": [
        "df_neg = df.query('sentiment==0')\n",
        "df_pos = df.query('sentiment==1')\n",
        "\n",
        "\n",
        "neg_freq = df_neg['date'].dt.dayofweek.map({0: 'Mon', 1:'Tue', 2:'Wed', 3:'Thu', 4:'Fri', 5:'Sat', 6:'Sun'}).value_counts().rename('negative tweets frequencies')\n",
        "pos_freq = df_pos['date'].dt.dayofweek.map({0: 'Mon', 1:'Tue', 2:'Wed', 3:'Thu', 4:'Fri', 5:'Sat', 6:'Sun'}).value_counts().rename('positive tweets frequencies')\n",
        "\n",
        "freq = pd.concat([neg_freq, pos_freq], axis=1)\n",
        "fig = freq.plot.bar(figsize=(10, 6), title='Day of the week-sentiment distribution').get_figure()\n",
        "fig.savefig('double_bar.png')"
      ]
    },
    {
      "cell_type": "markdown",
      "metadata": {
        "id": "q-vlXcB9bfkr"
      },
      "source": [
        "The day of the week could be an important feature for our analysis"
      ]
    },
    {
      "cell_type": "code",
      "execution_count": null,
      "metadata": {
        "colab": {
          "base_uri": "https://localhost:8080/",
          "height": 401
        },
        "id": "RJ-UXsmF1_7l",
        "outputId": "1249a49b-5ef9-41bf-9178-ed61a22086e5"
      },
      "outputs": [
        {
          "data": {
            "image/png": "[encoded data removed]",
            "text/plain": [
              "<Figure size 720x432 with 1 Axes>"
            ]
          },
          "metadata": {
            "needs_background": "light"
          },
          "output_type": "display_data"
        }
      ],
      "source": [
        "df_neg = df.query('sentiment==0')\n",
        "df_pos = df.query('sentiment==1')\n",
        "\n",
        "\n",
        "neg_freq = df_neg['date'].dt.month.map({0: 'Jan', 1:'Feb', 2:'Mar', 3:'Apr', 4:'May', 5:'Jun', 6:'Jul', 7:'Aug', 8:'Sep', 9:'Oct', 10:'Nov', 11:'Dec'}).value_counts().rename('negative frequencies')\n",
        "pos_freq = df_pos['date'].dt.month.map({0: 'Jan', 1:'Feb', 2:'Mar', 3:'Apr', 4:'May', 5:'Jun', 6:'Jul', 7:'Aug', 8:'Sep', 9:'Oct', 10:'Nov', 11:'Dec'}).value_counts().rename('positive frequencies')\n",
        "\n",
        "freq = pd.concat([neg_freq, pos_freq], axis=1)\n",
        "fig = freq.plot.bar(figsize=(10, 6), title='Month-sentiment distribution').get_figure()\n",
        "fig.savefig('double_bar_month.png')"
      ]
    },
    {
      "cell_type": "markdown",
      "metadata": {
        "id": "_Ze3Ji1L2h2s"
      },
      "source": [
        "Though there's some imbalancing in sentiment class, records are equally nomerous in July, whilst in June positive tweets doubled negative ones"
      ]
    },
    {
      "cell_type": "code",
      "execution_count": null,
      "metadata": {
        "colab": {
          "base_uri": "https://localhost:8080/",
          "height": 393
        },
        "id": "KKg-wmWM3cWo",
        "outputId": "a8cf7549-7f84-4c7b-cfdb-0ba6ea7c8976"
      },
      "outputs": [
        {
          "data": {
            "image/png": "[encoded data removed]",
            "text/plain": [
              "<Figure size 720x432 with 1 Axes>"
            ]
          },
          "metadata": {
            "needs_background": "light"
          },
          "output_type": "display_data"
        }
      ],
      "source": [
        "df_neg = df.query('sentiment==0')\n",
        "df_pos = df.query('sentiment==1')\n",
        "\n",
        "\n",
        "neg_freq = df_neg['date'].dt.hour.value_counts().rename('negative frequencies')\n",
        "pos_freq = df_pos['date'].dt.hour.value_counts().rename('positive frequencies')\n",
        "\n",
        "freq = pd.concat([neg_freq, pos_freq], axis=1)\n",
        "fig = freq.plot.bar(figsize=(10, 6), title='Hour-sentiment distribution').get_figure()\n",
        "fig.savefig('double_bar_month.png')"
      ]
    },
    {
      "cell_type": "code",
      "execution_count": null,
      "metadata": {
        "colab": {
          "base_uri": "https://localhost:8080/",
          "height": 407
        },
        "id": "kfBZZ7uIxr7d",
        "outputId": "424b6dc1-68fd-4ae4-89f9-e54da4b98721"
      },
      "outputs": [
        {
          "data": {
            "text/plain": [
              "<matplotlib.axes._subplots.AxesSubplot at 0x7f8ba8214d90>"
            ]
          },
          "execution_count": 103,
          "metadata": {},
          "output_type": "execute_result"
        },
        {
          "data": {
            "image/png": "[encoded data removed]",
            "text/plain": [
              "<Figure size 576x432 with 1 Axes>"
            ]
          },
          "metadata": {
            "needs_background": "light"
          },
          "output_type": "display_data"
        }
      ],
      "source": [
        "df_neg = df.query('sentiment==0')\n",
        "neg_freq = pd.Series(' '.join(df_neg['text']).lower().split()).value_counts()\n",
        "\n",
        "neg_freq[:15].plot.barh(colormap='Set1', figsize=(8,6), title='Negative words frequencies')"
      ]
    },
    {
      "cell_type": "code",
      "execution_count": null,
      "metadata": {
        "colab": {
          "base_uri": "https://localhost:8080/",
          "height": 407
        },
        "id": "SpcJwA0QyAnq",
        "outputId": "a9e4fabe-ecba-4ad1-85d9-ebbf5366af8d"
      },
      "outputs": [
        {
          "data": {
            "text/plain": [
              "<matplotlib.axes._subplots.AxesSubplot at 0x7f8bde161490>"
            ]
          },
          "execution_count": 102,
          "metadata": {},
          "output_type": "execute_result"
        },
        {
          "data": {
            "image/png": "[encoded data removed]",
            "text/plain": [
              "<Figure size 576x432 with 1 Axes>"
            ]
          },
          "metadata": {
            "needs_background": "light"
          },
          "output_type": "display_data"
        }
      ],
      "source": [
        "df_pos = df.query('sentiment==1')\n",
        "pos_freq = pd.Series(' '.join(df_pos['text']).lower().split()).value_counts()\n",
        "\n",
        "pos_freq[:15].plot.barh(figsize=(8,6), title='Positive words frequencies')"
      ]
    },
    {
      "cell_type": "markdown",
      "metadata": {
        "id": "Z5lCRRwf0V0G"
      },
      "source": [
        "Some usual 'stopwords' are present with the same frequency among the text from the two classes and some other aren't. Delenting stopwords from the analysis might be misleading."
      ]
    },
    {
      "cell_type": "code",
      "execution_count": null,
      "metadata": {
        "colab": {
          "base_uri": "https://localhost:8080/",
          "height": 466
        },
        "id": "nrMnap_br0NB",
        "outputId": "4f02d04e-b5e1-45e1-8be4-c6009e391657"
      },
      "outputs": [
        {
          "data": {
            "image/png": "[encoded data removed]",
            "text/plain": [
              "<Figure size 720x576 with 1 Axes>"
            ]
          },
          "metadata": {
            "needs_background": "light"
          },
          "output_type": "display_data"
        }
      ],
      "source": [
        "text = \" \".join(tweet for tweet in list(df_merged.text))\n",
        "\n",
        "wordcloud = WordCloud(stopwords=None, background_color='white').generate(text) # a standard stopwords set is used\n",
        "fig = plt.imshow(wordcloud, interpolation='bilinear', aspect='auto')\n",
        "plt.axis(\"off\")\n",
        "plt.rcParams[\"figure.figsize\"] = (8, 6)\n",
        "plt.show()\n",
        "fig.figure.savefig('wordcloud.png')"
      ]
    },
    {
      "cell_type": "markdown",
      "metadata": {
        "id": "0-iAxRtnloR8"
      },
      "source": [
        "The first thing we can notice is that HTML character entity references like &quot and &amp are two of the biggest represented words, so we definitely need to clean the text of all references."
      ]
    },
    {
      "cell_type": "markdown",
      "metadata": {
        "id": "pyrf3kvxslYD"
      },
      "source": [
        "# First Benchmark:"
      ]
    },
    {
      "cell_type": "markdown",
      "metadata": {
        "id": "QAiBcYiz0SFk"
      },
      "source": [
        "We will see the score of these classifiers without any relevant preprocessing step and using only the text column as input (we apply tf-idf vectorization for text) :\n"
      ]
    },
    {
      "cell_type": "code",
      "execution_count": null,
      "metadata": {
        "id": "BeqbPWiO7ACP"
      },
      "outputs": [],
      "source": [
        "vectorizer = TfidfVectorizer()\n",
        "X_tfidf = vectorizer.fit_transform(df.text)"
      ]
    },
    {
      "cell_type": "code",
      "execution_count": null,
      "metadata": {
        "colab": {
          "base_uri": "https://localhost:8080/"
        },
        "id": "VuhOzhU_0I4W",
        "outputId": "dedc3f87-3117-4e5d-8d7c-aca43b497f79"
      },
      "outputs": [
        {
          "name": "stdout",
          "output_type": "stream",
          "text": [
            "+---------------------+----------------------------------------------------------+\n",
            "|        model        |                         F1 macro                         |\n",
            "+---------------------+----------------------------------------------------------+\n",
            "|    random forest    | [0.73577942 0.72850186 0.73388639 0.73132185 0.73419266] |\n",
            "| logistic regression | [0.784628   0.78373817 0.78511538 0.78150087 0.78315572] |\n",
            "|      linear svc     | [0.78221908 0.78187169 0.78077192 0.77702541 0.78029331] |\n",
            "+---------------------+----------------------------------------------------------+\n"
          ]
        }
      ],
      "source": [
        "models = [RandomForestClassifier(n_estimators=10),\n",
        "          LogisticRegression(max_iter=1000),\n",
        "          LinearSVC(max_iter=1000)]\n",
        "\n",
        "names = [\n",
        "'random forest',\n",
        "'logistic regression',\n",
        "'linear svc'\n",
        "]\n",
        "\n",
        "t = PrettyTable()\n",
        "t.field_names = ['model', 'F1 macro']\n",
        "\n",
        "for model, name in zip(models, names):\n",
        "    scores = cross_val_score(model, X_tfidf, df.sentiment, cv=5, scoring='f1_macro')\n",
        "    t.add_row([name, scores])\n",
        "print(t)"
      ]
    },
    {
      "cell_type": "markdown",
      "metadata": {
        "id": "MueCSexBoL1o"
      },
      "source": [
        "Let's inspect if random forest improves with higher number of estimators:"
      ]
    },
    {
      "cell_type": "code",
      "execution_count": null,
      "metadata": {
        "id": "rBNmNk9ooL1o",
        "outputId": "0baeeb93-dd73-44a9-bdcb-362f9fdab7d3"
      },
      "outputs": [
        {
          "name": "stdout",
          "output_type": "stream",
          "text": [
            "+-------------------+--------------------+--------------------+\n",
            "| Num of estimators | Training F1 macro  |   Test F1 macro    |\n",
            "+-------------------+--------------------+--------------------+\n",
            "|         10        | 0.9905432540204524 |  0.72791339956001  |\n",
            "|         20        | 0.9974187303604697 | 0.7502518707327215 |\n",
            "|         30        | 0.9984842302058159 | 0.7571804056865761 |\n",
            "|         40        | 0.9986323733563311 | 0.7583835929882079 |\n",
            "|         50        | 0.9987349544811899 | 0.7636887110934355 |\n",
            "+-------------------+--------------------+--------------------+\n"
          ]
        }
      ],
      "source": [
        "t = PrettyTable()\n",
        "t.field_names = ['Num of estimators', 'Training F1 macro', 'Test F1 macro']\n",
        "X_train, X_test, y_train, y_test = train_test_split(X_tfidf, df.sentiment, test_size=0.2, random_state=42)\n",
        "\n",
        "f1_scores_train = []\n",
        "f1_scores_test = []\n",
        "for n in range(10, 60, 10):\n",
        "    rf = RandomForestClassifier(n_estimators=n)\n",
        "    rf.fit(X_train, y_train)\n",
        "    y_pred = rf.predict(X_test)\n",
        "    f1_test = f1_score(y_test, y_pred, average='macro')\n",
        "    y_pred = rf.predict(X_train)\n",
        "    f1_train = f1_score(y_train, y_pred, average='macro')\n",
        "    f1_scores_test.append(f1_test)\n",
        "    f1_scores_train.append(f1_train)\n",
        "    t.add_row([n, f1_train, f1_test])\n",
        "print(t)"
      ]
    },
    {
      "cell_type": "markdown",
      "metadata": {
        "id": "ZkvsxBc4u-Oe"
      },
      "source": [
        "Let's plot Random Forest's learning curves:"
      ]
    },
    {
      "cell_type": "code",
      "execution_count": null,
      "metadata": {
        "id": "O7jlvfYSoL1o",
        "outputId": "7a09f4d0-6ecd-4cc1-c8bf-082caf1175a8"
      },
      "outputs": [
        {
          "data": {
            "image/png": "[encoded data removed]",
            "text/plain": [
              "<Figure size 432x288 with 1 Axes>"
            ]
          },
          "metadata": {
            "needs_background": "light"
          },
          "output_type": "display_data"
        }
      ],
      "source": [
        "x = range(10, 60, 10)\n",
        "plt.plot(x, f1_scores_train, label = \"Training score\")\n",
        "plt.plot(x, f1_scores_test, label= \"Testing score\")\n",
        "plt.legend()\n",
        "plt.show()"
      ]
    },
    {
      "cell_type": "code",
      "execution_count": null,
      "metadata": {
        "id": "wF1iQcPloL1p",
        "outputId": "fe8308d5-1307-4c50-dab4-2aa77bc0e8f2"
      },
      "outputs": [
        {
          "name": "stdout",
          "output_type": "stream",
          "text": [
            "Accuracy on test set:  0.8000400008889087\n",
            "F1 score on test set:  0.7921767475343384\n"
          ]
        }
      ],
      "source": [
        "X_train, X_test, y_train, y_test = train_test_split(X_tfidf, df.sentiment, test_size=0.2, random_state=42)\n",
        "\n",
        "svm = SVC()\n",
        "svm.fit(X_train, y_train)\n",
        "y_pred = svm.predict(X_test)\n",
        "\n",
        "print(\"Accuracy on test set: \", accuracy_score(y_test, y_pred))\n",
        "print(\"F1 score on test set: \", f1_score(y_test, y_pred, average='macro'))"
      ]
    },
    {
      "cell_type": "markdown",
      "metadata": {
        "id": "V7gsm4ki3JdC"
      },
      "source": [
        "We will use LogisticRegression to rapidly asses our choices."
      ]
    },
    {
      "cell_type": "markdown",
      "metadata": {
        "id": "397uYQ_gv-Mf"
      },
      "source": [
        "Let's try a particular tokenizer, which considers raw punctuation as tokens, together with a Lemmatizer and let's eliminate stopwords from our analysis:\n",
        "\n"
      ]
    },
    {
      "cell_type": "code",
      "execution_count": null,
      "metadata": {
        "id": "YYINQEYa2jQP"
      },
      "outputs": [],
      "source": [
        "class LemmaTokenizer(object):\n",
        "  def __init__(self):\n",
        "    self.lemmatizer = WordNetLemmatizer()\n",
        "    self.tokenizer = WordPunctTokenizer()\n",
        "\n",
        "\n",
        "  def __call__(self, document):\n",
        "    lemmas = []\n",
        "    for token in self.tokenizer.tokenize(document):\n",
        "      token = token.strip()\n",
        "      lemma = self.lemmatizer.lemmatize(token)\n",
        "      lemmas.append(lemma)\n",
        "    return lemmas"
      ]
    },
    {
      "cell_type": "code",
      "execution_count": null,
      "metadata": {
        "colab": {
          "base_uri": "https://localhost:8080/"
        },
        "id": "BEVA475k4OoT",
        "outputId": "3d18d2ba-753f-464f-dbd6-d30b6afaa101"
      },
      "outputs": [
        {
          "name": "stderr",
          "output_type": "stream",
          "text": [
            "/usr/local/lib/python3.7/dist-packages/sklearn/feature_extraction/text.py:401: UserWarning: Your stop_words may be inconsistent with your preprocessing. Tokenizing the stop words generated tokens [\"'\", 'doe', 'ha', 'wa'] not in stop_words.\n",
            "  % sorted(inconsistent)\n"
          ]
        },
        {
          "name": "stdout",
          "output_type": "stream",
          "text": [
            "Accuracy on test set:  0.7841729816218138\n",
            "F1 score on test set:  0.7744888665015714\n"
          ]
        }
      ],
      "source": [
        "vectorizer = TfidfVectorizer(tokenizer=LemmaTokenizer(), stop_words=stopwords.words('english'))\n",
        "X_tfidf = vectorizer.fit_transform(df.text)\n",
        "X_train, X_test, y_train, y_test = train_test_split(X_tfidf, df.sentiment, test_size=0.2, random_state=42)\n",
        "\n",
        "model = LogisticRegression(max_iter=2000)\n",
        "model.fit(X_train, y_train)\n",
        "y_pred = model.predict(X_test)\n",
        "\n",
        "print(\"Accuracy on test set: \", accuracy_score(y_test, y_pred))\n",
        "print(\"F1 score on test set: \", f1_score(y_test, y_pred, average='macro'))"
      ]
    },
    {
      "cell_type": "markdown",
      "metadata": {
        "id": "7cQW-gx1Dh21"
      },
      "source": [
        "Let's try stopword removal only:\n"
      ]
    },
    {
      "cell_type": "code",
      "execution_count": null,
      "metadata": {
        "colab": {
          "base_uri": "https://localhost:8080/"
        },
        "id": "vOxjiobP7ACP",
        "outputId": "290cacd6-381d-4541-ae68-b576a29cc594"
      },
      "outputs": [
        {
          "name": "stdout",
          "output_type": "stream",
          "text": [
            "Accuracy on test set:  0.7797284384097425\n",
            "F1 score on test set:  0.7694959532834751\n"
          ]
        }
      ],
      "source": [
        "vectorizer = TfidfVectorizer(stop_words=stopwords.words('english'))\n",
        "X_tfidf = vectorizer.fit_transform(df.text)\n",
        "X_train, X_test, y_train, y_test = train_test_split(X_tfidf, df.sentiment, test_size=0.2, random_state=42)\n",
        "\n",
        "model = LogisticRegression(max_iter=2000)\n",
        "model.fit(X_train, y_train)\n",
        "y_pred = model.predict(X_test)\n",
        "print(\"Accuracy on test set: \", accuracy_score(y_test, y_pred))\n",
        "print(\"F1 score on test set: \", f1_score(y_test, y_pred, average='macro'))"
      ]
    },
    {
      "cell_type": "markdown",
      "metadata": {
        "id": "OKc53jWQDltJ"
      },
      "source": [
        "It's clear that both lemmatization and stopword removal worsen the performances. This can happen because abbreviations, like punctuation, can be relevant to sentiment detection.\n",
        "Moreover, the default tokenization used by TfidfVectorizer explicitly ignores all punctuation and this caused the last score being lower than the previous one.\n",
        "\n"
      ]
    },
    {
      "cell_type": "markdown",
      "metadata": {
        "id": "xh_c7DF3eTfp"
      },
      "source": [
        "# **Preprocessing**:"
      ]
    },
    {
      "cell_type": "markdown",
      "metadata": {
        "id": "pmuFklcx5A6Z"
      },
      "source": [
        "In our cleaning pipeline, we remove all the # and @ from our text, then we identify url and words with trailing repeted characters using regular expressions:\n",
        "\n",
        "\n",
        "1.   we eliminate all the HTML references \n",
        "2.   we substitute every url with the *URL* keyword\n",
        "3.   we bring to 2 the number of repeted characters in a word\n",
        "4.   we eliminate # and @ symbols\n",
        "\n"
      ]
    },
    {
      "cell_type": "code",
      "execution_count": null,
      "metadata": {
        "id": "3zyXe482eTfp"
      },
      "outputs": [],
      "source": [
        "def tweet_cleaner(text):\n",
        "  urlPattern        = r\"((http://)[^ ]*|(https://)[^ ]*|( www\\.)[^ ]*)\"\n",
        "  rptPattern = re.compile(r\"(.)\\1{1,}\", re.IGNORECASE);\n",
        "\n",
        "  soup = BeautifulSoup(text, 'lxml')\n",
        "  tweet = soup.get_text().encode('latin1').decode('utf-8')\n",
        "\n",
        "  try:\n",
        "    tweet = tweet.encode('latin1').decode('utf-8')\n",
        "  except:\n",
        "    pass\n",
        "\n",
        "  tweet.lower()\n",
        "    \n",
        "  tweet = tweet.replace('�', \"'\")\n",
        "  tweet = re.sub(r'@', '', tweet)\n",
        "  tweet = re.sub(r'#', '', tweet)\n",
        "  tweet = re.sub(urlPattern, ' URL', tweet)\n",
        "  tweet = re.sub(rptPattern, rpt_repl, tweet)\n",
        "  \n",
        "  return tweet\n",
        "\n",
        "\n",
        "# To substitute repeating letters\n",
        "def rpt_repl(match):\n",
        "    return match.group(1)+match.group(1)"
      ]
    },
    {
      "cell_type": "code",
      "execution_count": null,
      "metadata": {
        "id": "7B7CfuCkyMdS"
      },
      "outputs": [],
      "source": [
        "class Tokenizer(object):\n",
        "  def __init__(self):\n",
        "    self.tokenizer = TweetTokenizer()\n",
        "\n",
        "\n",
        "  def __call__(self, document):\n",
        "    return self.tokenizer.tokenize(document)\n",
        "\n",
        "\n",
        "tknzr = Tokenizer()"
      ]
    },
    {
      "cell_type": "markdown",
      "metadata": {
        "id": "EORCecejoL1s"
      },
      "source": [
        "Performance with text cleaning:"
      ]
    },
    {
      "cell_type": "code",
      "execution_count": null,
      "metadata": {
        "id": "kowPEvkyoL1t"
      },
      "outputs": [],
      "source": [
        "X_cleaned = df['text'].map(lambda tweet: tweet_cleaner(tweet))"
      ]
    },
    {
      "cell_type": "code",
      "execution_count": null,
      "metadata": {
        "id": "Q_3mp46poL1t"
      },
      "outputs": [],
      "source": [
        "vectorizer = TfidfVectorizer(tokenizer=tknzr)\n",
        "X_cleaned =  vectorizer.fit_transform(X_cleaned)"
      ]
    },
    {
      "cell_type": "code",
      "execution_count": null,
      "metadata": {
        "id": "EysHvKJEoL1t"
      },
      "outputs": [],
      "source": [
        "models = [RandomForestClassifier(n_estimators=50),\n",
        "          LogisticRegression(max_iter=1000),\n",
        "          LinearSVC(max_iter=1000)]\n",
        "names = [\n",
        "'random forest',\n",
        "'logistic regression',\n",
        "'linear svc'\n",
        "]"
      ]
    },
    {
      "cell_type": "code",
      "execution_count": null,
      "metadata": {
        "id": "b_Wuz91VoL1t",
        "outputId": "6e7e3de1-3f75-4ee4-d8ab-36503c9ef9e3"
      },
      "outputs": [
        {
          "name": "stdout",
          "output_type": "stream",
          "text": [
            "+---------------------+----------------------------------------------------------+\n",
            "|        model        |                         F1 macro                         |\n",
            "+---------------------+----------------------------------------------------------+\n",
            "|    random forest    | [0.75985024 0.75875551 0.75723487 0.7574411  0.75991351] |\n",
            "| logistic regression | [0.78963971 0.79024494 0.79011985 0.78530296 0.78931143] |\n",
            "|      linear svc     | [0.78623669 0.78722606 0.78655454 0.78213241 0.78503181] |\n",
            "+---------------------+----------------------------------------------------------+\n"
          ]
        }
      ],
      "source": [
        "t = PrettyTable()\n",
        "t.field_names = ['model', 'F1 macro']\n",
        "\n",
        "for model, name in zip(models, names):\n",
        "    scores = cross_val_score(model, X_cleaned, df.sentiment, cv=5, scoring='f1_macro')\n",
        "    t.add_row([name, scores])\n",
        "print(t)"
      ]
    },
    {
      "cell_type": "markdown",
      "metadata": {
        "id": "SMTDM5zK634p"
      },
      "source": [
        "New features selection:\n",
        "\n",
        "\n",
        "1.   One-hot encoded usernames\n",
        "2.   From the *date* column, we extract the date (yyyy-mm-dd), week-day, hour and month, we add one column for each of them to the dataframe and, finally, we use the one-hot encoded version of them as feature\n",
        "\n"
      ]
    },
    {
      "cell_type": "code",
      "execution_count": null,
      "metadata": {
        "id": "-yi4cvA_u4eJ"
      },
      "outputs": [],
      "source": [
        "# one-hot for user\n",
        "df = pd.concat([pd.DataFrame(pd.get_dummies(df.user)), df.drop(columns=['user'])], axis=1)\n",
        "\n",
        "# We use date, dat of the week, month and hour as features one hot encoded\n",
        "\n",
        "df['day_of_the_week'] = df['date'].dt.dayofweek\n",
        "df['day_of_the_week'] = df['day_of_the_week'].map({0: 'Mon', 1:'Tue', 2:'Wen', 3:'Thu', 4:'Fri', 5:'Sat', 6:'Sun'})\n",
        "df['_hour_'] = df['date'].dt.hour\n",
        "df['_month_'] = df['date'].dt.month\n",
        "df['_month_'] = df['_month_'].map({0: 'Jan', 1:'Feb', 2:'Mar', 3:'Apr', 4:'May', 5:'Jun', 6:'Jul', 7:'Aug', 8:'Sep', 9:'Oct', 10:'Nov', 11:'Dec'})\n",
        "df['_date_'] = df['date'].dt.date\n",
        "df = pd.concat([pd.DataFrame(pd.get_dummies(df['_date_'])), pd.DataFrame(pd.get_dummies(df['day_of_the_week'])),\\\n",
        "               pd.DataFrame(pd.get_dummies(df['_hour_'])), pd.DataFrame(pd.get_dummies(df['_month_'])),\\\n",
        "               df.drop(columns=['date', 'day_of_the_week', '_hour_', '_month_', '_date_'])], axis=1)"
      ]
    },
    {
      "cell_type": "markdown",
      "metadata": {
        "id": "AISZE8HVoL1u"
      },
      "source": [
        "Performance after feature selection:"
      ]
    },
    {
      "cell_type": "code",
      "execution_count": null,
      "metadata": {
        "id": "5goM2j6Pu4eK"
      },
      "outputs": [],
      "source": [
        "df['text'] = df['text'].map(lambda tweet: tweet_cleaner(tweet))"
      ]
    },
    {
      "cell_type": "code",
      "execution_count": null,
      "metadata": {
        "id": "UoOLI6Ueu4eK"
      },
      "outputs": [],
      "source": [
        "t = PrettyTable()\n",
        "t.field_names = ['Model', 'F1 macro']\n",
        "\n",
        "vectorizer = TfidfVectorizer(tokenizer=tknzr)\n",
        "\n",
        "# construct the column transfomer\n",
        "column_transformer = ColumnTransformer(\n",
        "    [('tfidf', vectorizer, 'text')],\n",
        "    remainder='passthrough')\n",
        "\n",
        "for model, name in zip(models, names):\n",
        "    pipe = Pipeline([\n",
        "                ('ct', column_transformer),\n",
        "                ('classify', model)\n",
        "                ])\n",
        "    scores = cross_val_score(pipe, df.drop(columns=['sentiment', 'flag', 'ids']), df.sentiment, cv=5, scoring='f1_macro')\n",
        "    t.add_row([name, scores])\n",
        "print(t)"
      ]
    },
    {
      "cell_type": "markdown",
      "metadata": {
        "id": "PQL5QDoZZ1uF"
      },
      "source": [
        "# Tf-idf Hyperparameters tuning"
      ]
    },
    {
      "cell_type": "code",
      "execution_count": null,
      "metadata": {
        "id": "dN7lCqN6daEQ"
      },
      "outputs": [],
      "source": [
        "X, y = pd.concat([X_train_preprocessed, X_test_preprocessed]), pd.concat([y_train, y_test])"
      ]
    },
    {
      "cell_type": "code",
      "execution_count": null,
      "metadata": {
        "id": "KjjcfkwgeEht"
      },
      "outputs": [],
      "source": [
        "# initialise model and vectorizers\n",
        "model = LogisticRegression(max_iter=2000, n_jobs=-1)\n",
        "vectorizer = TfidfVectorizer(tokenizer=tknzr)\n",
        "\n",
        "# construct the column transfomer\n",
        "column_transformer = ColumnTransformer(\n",
        "    [('tfidf', vectorizer, 'text')],\n",
        "    remainder='passthrough')\n",
        "\n",
        "#model.fit(X_transf, y)\n",
        "pipe = Pipeline([\n",
        "                  ('ct', column_transformer),\n",
        "                  ('classify', model)\n",
        "                ])"
      ]
    },
    {
      "cell_type": "code",
      "execution_count": null,
      "metadata": {
        "colab": {
          "base_uri": "https://localhost:8080/"
        },
        "collapsed": true,
        "id": "D7awOgyiZ4WA",
        "jupyter": {
          "outputs_hidden": true
        },
        "outputId": "94de6395-1617-403e-d73e-68cd4edfaaf2"
      },
      "outputs": [
        {
          "name": "stdout",
          "output_type": "stream",
          "text": [
            "Fitting 5 folds for each of 36 candidates, totalling 180 fits\n"
          ]
        },
        {
          "name": "stderr",
          "output_type": "stream",
          "text": [
            "/home/students/s292129/.local/lib/python3.7/site-packages/sklearn/utils/validation.py:1692: FutureWarning: Feature names only support names that are all strings. Got feature names with dtypes: ['int', 'str']. An error will be raised in 1.2.\n",
            "  FutureWarning,\n",
            "/home/students/s292129/.local/lib/python3.7/site-packages/sklearn/utils/validation.py:1692: FutureWarning: Feature names only support names that are all strings. Got feature names with dtypes: ['int', 'str']. An error will be raised in 1.2.\n",
            "  FutureWarning,\n",
            "/home/students/s292129/.local/lib/python3.7/site-packages/sklearn/feature_extraction/text.py:1632: RuntimeWarning: divide by zero encountered in true_divide\n",
            "  idf = np.log(n_samples / df) + 1\n",
            "/home/students/s292129/.local/lib/python3.7/site-packages/sklearn/utils/validation.py:1692: FutureWarning: Feature names only support names that are all strings. Got feature names with dtypes: ['int', 'str']. An error will be raised in 1.2.\n",
            "  FutureWarning,\n",
            "/home/students/s292129/.local/lib/python3.7/site-packages/sklearn/feature_extraction/text.py:1632: RuntimeWarning: divide by zero encountered in true_divide\n",
            "  idf = np.log(n_samples / df) + 1\n",
            "/home/students/s292129/.local/lib/python3.7/site-packages/sklearn/utils/validation.py:1692: FutureWarning: Feature names only support names that are all strings. Got feature names with dtypes: ['int', 'str']. An error will be raised in 1.2.\n",
            "  FutureWarning,\n",
            "/home/students/s292129/.local/lib/python3.7/site-packages/sklearn/feature_extraction/text.py:1632: RuntimeWarning: divide by zero encountered in true_divide\n",
            "  idf = np.log(n_samples / df) + 1\n",
            "/home/students/s292129/.local/lib/python3.7/site-packages/sklearn/utils/validation.py:1692: FutureWarning: Feature names only support names that are all strings. Got feature names with dtypes: ['int', 'str']. An error will be raised in 1.2.\n",
            "  FutureWarning,\n",
            "/home/students/s292129/.local/lib/python3.7/site-packages/sklearn/feature_extraction/text.py:1632: RuntimeWarning: divide by zero encountered in true_divide\n",
            "  idf = np.log(n_samples / df) + 1\n",
            "/home/students/s292129/.local/lib/python3.7/site-packages/sklearn/utils/validation.py:1692: FutureWarning: Feature names only support names that are all strings. Got feature names with dtypes: ['int', 'str']. An error will be raised in 1.2.\n",
            "  FutureWarning,\n",
            "/home/students/s292129/.local/lib/python3.7/site-packages/sklearn/feature_extraction/text.py:1632: RuntimeWarning: divide by zero encountered in true_divide\n",
            "  idf = np.log(n_samples / df) + 1\n",
            "/home/students/s292129/.local/lib/python3.7/site-packages/sklearn/utils/validation.py:1692: FutureWarning: Feature names only support names that are all strings. Got feature names with dtypes: ['int', 'str']. An error will be raised in 1.2.\n",
            "  FutureWarning,\n",
            "/home/students/s292129/.local/lib/python3.7/site-packages/sklearn/feature_extraction/text.py:1632: RuntimeWarning: divide by zero encountered in true_divide\n",
            "  idf = np.log(n_samples / df) + 1\n",
            "/home/students/s292129/.local/lib/python3.7/site-packages/sklearn/utils/validation.py:1692: FutureWarning: Feature names only support names that are all strings. Got feature names with dtypes: ['int', 'str']. An error will be raised in 1.2.\n",
            "  FutureWarning,\n",
            "/home/students/s292129/.local/lib/python3.7/site-packages/sklearn/feature_extraction/text.py:1632: RuntimeWarning: divide by zero encountered in true_divide\n",
            "  idf = np.log(n_samples / df) + 1\n",
            "/home/students/s292129/.local/lib/python3.7/site-packages/sklearn/utils/validation.py:1692: FutureWarning: Feature names only support names that are all strings. Got feature names with dtypes: ['int', 'str']. An error will be raised in 1.2.\n",
            "  FutureWarning,\n",
            "/home/students/s292129/.local/lib/python3.7/site-packages/sklearn/feature_extraction/text.py:1632: RuntimeWarning: divide by zero encountered in true_divide\n",
            "  idf = np.log(n_samples / df) + 1\n",
            "/home/students/s292129/.local/lib/python3.7/site-packages/sklearn/utils/validation.py:1692: FutureWarning: Feature names only support names that are all strings. Got feature names with dtypes: ['int', 'str']. An error will be raised in 1.2.\n",
            "  FutureWarning,\n",
            "/home/students/s292129/.local/lib/python3.7/site-packages/sklearn/feature_extraction/text.py:1632: RuntimeWarning: divide by zero encountered in true_divide\n",
            "  idf = np.log(n_samples / df) + 1\n",
            "/home/students/s292129/.local/lib/python3.7/site-packages/sklearn/utils/validation.py:1692: FutureWarning: Feature names only support names that are all strings. Got feature names with dtypes: ['int', 'str']. An error will be raised in 1.2.\n",
            "  FutureWarning,\n",
            "/home/students/s292129/.local/lib/python3.7/site-packages/sklearn/utils/validation.py:1692: FutureWarning: Feature names only support names that are all strings. Got feature names with dtypes: ['int', 'str']. An error will be raised in 1.2.\n",
            "  FutureWarning,\n",
            "/home/students/s292129/.local/lib/python3.7/site-packages/sklearn/utils/validation.py:1692: FutureWarning: Feature names only support names that are all strings. Got feature names with dtypes: ['int', 'str']. An error will be raised in 1.2.\n",
            "  FutureWarning,\n",
            "/home/students/s292129/.local/lib/python3.7/site-packages/sklearn/utils/validation.py:1692: FutureWarning: Feature names only support names that are all strings. Got feature names with dtypes: ['int', 'str']. An error will be raised in 1.2.\n",
            "  FutureWarning,\n",
            "/home/students/s292129/.local/lib/python3.7/site-packages/sklearn/feature_extraction/text.py:1632: RuntimeWarning: divide by zero encountered in true_divide\n",
            "  idf = np.log(n_samples / df) + 1\n",
            "/home/students/s292129/.local/lib/python3.7/site-packages/sklearn/utils/validation.py:1692: FutureWarning: Feature names only support names that are all strings. Got feature names with dtypes: ['int', 'str']. An error will be raised in 1.2.\n",
            "  FutureWarning,\n",
            "/home/students/s292129/.local/lib/python3.7/site-packages/sklearn/feature_extraction/text.py:1632: RuntimeWarning: divide by zero encountered in true_divide\n",
            "  idf = np.log(n_samples / df) + 1\n",
            "/home/students/s292129/.local/lib/python3.7/site-packages/sklearn/utils/validation.py:1692: FutureWarning: Feature names only support names that are all strings. Got feature names with dtypes: ['int', 'str']. An error will be raised in 1.2.\n",
            "  FutureWarning,\n",
            "/home/students/s292129/.local/lib/python3.7/site-packages/sklearn/feature_extraction/text.py:1632: RuntimeWarning: divide by zero encountered in true_divide\n",
            "  idf = np.log(n_samples / df) + 1\n",
            "/home/students/s292129/.local/lib/python3.7/site-packages/sklearn/utils/validation.py:1692: FutureWarning: Feature names only support names that are all strings. Got feature names with dtypes: ['int', 'str']. An error will be raised in 1.2.\n",
            "  FutureWarning,\n",
            "/home/students/s292129/.local/lib/python3.7/site-packages/sklearn/utils/validation.py:1692: FutureWarning: Feature names only support names that are all strings. Got feature names with dtypes: ['int', 'str']. An error will be raised in 1.2.\n",
            "  FutureWarning,\n",
            "/home/students/s292129/.local/lib/python3.7/site-packages/sklearn/utils/validation.py:1692: FutureWarning: Feature names only support names that are all strings. Got feature names with dtypes: ['int', 'str']. An error will be raised in 1.2.\n",
            "  FutureWarning,\n",
            "/home/students/s292129/.local/lib/python3.7/site-packages/sklearn/feature_extraction/text.py:1632: RuntimeWarning: divide by zero encountered in true_divide\n",
            "  idf = np.log(n_samples / df) + 1\n",
            "/home/students/s292129/.local/lib/python3.7/site-packages/sklearn/utils/validation.py:1692: FutureWarning: Feature names only support names that are all strings. Got feature names with dtypes: ['int', 'str']. An error will be raised in 1.2.\n",
            "  FutureWarning,\n",
            "/home/students/s292129/.local/lib/python3.7/site-packages/sklearn/feature_extraction/text.py:1632: RuntimeWarning: divide by zero encountered in true_divide\n",
            "  idf = np.log(n_samples / df) + 1\n",
            "/home/students/s292129/.local/lib/python3.7/site-packages/sklearn/utils/validation.py:1692: FutureWarning: Feature names only support names that are all strings. Got feature names with dtypes: ['int', 'str']. An error will be raised in 1.2.\n",
            "  FutureWarning,\n",
            "/home/students/s292129/.local/lib/python3.7/site-packages/sklearn/utils/validation.py:1692: FutureWarning: Feature names only support names that are all strings. Got feature names with dtypes: ['int', 'str']. An error will be raised in 1.2.\n",
            "  FutureWarning,\n",
            "/home/students/s292129/.local/lib/python3.7/site-packages/sklearn/utils/validation.py:1692: FutureWarning: Feature names only support names that are all strings. Got feature names with dtypes: ['int', 'str']. An error will be raised in 1.2.\n",
            "  FutureWarning,\n",
            "/home/students/s292129/.local/lib/python3.7/site-packages/sklearn/utils/validation.py:1692: FutureWarning: Feature names only support names that are all strings. Got feature names with dtypes: ['int', 'str']. An error will be raised in 1.2.\n",
            "  FutureWarning,\n",
            "/home/students/s292129/.local/lib/python3.7/site-packages/sklearn/feature_extraction/text.py:1632: RuntimeWarning: divide by zero encountered in true_divide\n",
            "  idf = np.log(n_samples / df) + 1\n",
            "/home/students/s292129/.local/lib/python3.7/site-packages/sklearn/utils/validation.py:1692: FutureWarning: Feature names only support names that are all strings. Got feature names with dtypes: ['int', 'str']. An error will be raised in 1.2.\n",
            "  FutureWarning,\n",
            "/home/students/s292129/.local/lib/python3.7/site-packages/sklearn/feature_extraction/text.py:1632: RuntimeWarning: divide by zero encountered in true_divide\n",
            "  idf = np.log(n_samples / df) + 1\n",
            "/home/students/s292129/.local/lib/python3.7/site-packages/sklearn/utils/validation.py:1692: FutureWarning: Feature names only support names that are all strings. Got feature names with dtypes: ['int', 'str']. An error will be raised in 1.2.\n",
            "  FutureWarning,\n",
            "/home/students/s292129/.local/lib/python3.7/site-packages/sklearn/feature_extraction/text.py:1632: RuntimeWarning: divide by zero encountered in true_divide\n",
            "  idf = np.log(n_samples / df) + 1\n",
            "/home/students/s292129/.local/lib/python3.7/site-packages/sklearn/utils/validation.py:1692: FutureWarning: Feature names only support names that are all strings. Got feature names with dtypes: ['int', 'str']. An error will be raised in 1.2.\n",
            "  FutureWarning,\n",
            "/home/students/s292129/.local/lib/python3.7/site-packages/sklearn/utils/validation.py:1692: FutureWarning: Feature names only support names that are all strings. Got feature names with dtypes: ['int', 'str']. An error will be raised in 1.2.\n",
            "  FutureWarning,\n",
            "/home/students/s292129/.local/lib/python3.7/site-packages/sklearn/feature_extraction/text.py:1632: RuntimeWarning: divide by zero encountered in true_divide\n",
            "  idf = np.log(n_samples / df) + 1\n",
            "/home/students/s292129/.local/lib/python3.7/site-packages/sklearn/utils/validation.py:1692: FutureWarning: Feature names only support names that are all strings. Got feature names with dtypes: ['int', 'str']. An error will be raised in 1.2.\n",
            "  FutureWarning,\n",
            "/home/students/s292129/.local/lib/python3.7/site-packages/sklearn/utils/validation.py:1692: FutureWarning: Feature names only support names that are all strings. Got feature names with dtypes: ['int', 'str']. An error will be raised in 1.2.\n",
            "  FutureWarning,\n",
            "/home/students/s292129/.local/lib/python3.7/site-packages/sklearn/feature_extraction/text.py:1632: RuntimeWarning: divide by zero encountered in true_divide\n",
            "  idf = np.log(n_samples / df) + 1\n",
            "/home/students/s292129/.local/lib/python3.7/site-packages/sklearn/utils/validation.py:1692: FutureWarning: Feature names only support names that are all strings. Got feature names with dtypes: ['int', 'str']. An error will be raised in 1.2.\n",
            "  FutureWarning,\n",
            "/home/students/s292129/.local/lib/python3.7/site-packages/sklearn/utils/validation.py:1692: FutureWarning: Feature names only support names that are all strings. Got feature names with dtypes: ['int', 'str']. An error will be raised in 1.2.\n",
            "  FutureWarning,\n",
            "/home/students/s292129/.local/lib/python3.7/site-packages/sklearn/utils/validation.py:1692: FutureWarning: Feature names only support names that are all strings. Got feature names with dtypes: ['int', 'str']. An error will be raised in 1.2.\n",
            "  FutureWarning,\n",
            "/home/students/s292129/.local/lib/python3.7/site-packages/sklearn/feature_extraction/text.py:1632: RuntimeWarning: divide by zero encountered in true_divide\n",
            "  idf = np.log(n_samples / df) + 1\n",
            "/home/students/s292129/.local/lib/python3.7/site-packages/sklearn/utils/validation.py:1692: FutureWarning: Feature names only support names that are all strings. Got feature names with dtypes: ['int', 'str']. An error will be raised in 1.2.\n",
            "  FutureWarning,\n",
            "/home/students/s292129/.local/lib/python3.7/site-packages/sklearn/utils/validation.py:1692: FutureWarning: Feature names only support names that are all strings. Got feature names with dtypes: ['int', 'str']. An error will be raised in 1.2.\n",
            "  FutureWarning,\n",
            "/home/students/s292129/.local/lib/python3.7/site-packages/sklearn/feature_extraction/text.py:1632: RuntimeWarning: divide by zero encountered in true_divide\n",
            "  idf = np.log(n_samples / df) + 1\n",
            "/home/students/s292129/.local/lib/python3.7/site-packages/sklearn/utils/validation.py:1692: FutureWarning: Feature names only support names that are all strings. Got feature names with dtypes: ['int', 'str']. An error will be raised in 1.2.\n",
            "  FutureWarning,\n",
            "/home/students/s292129/.local/lib/python3.7/site-packages/sklearn/utils/validation.py:1692: FutureWarning: Feature names only support names that are all strings. Got feature names with dtypes: ['int', 'str']. An error will be raised in 1.2.\n",
            "  FutureWarning,\n",
            "/home/students/s292129/.local/lib/python3.7/site-packages/sklearn/utils/validation.py:1692: FutureWarning: Feature names only support names that are all strings. Got feature names with dtypes: ['int', 'str']. An error will be raised in 1.2.\n",
            "  FutureWarning,\n",
            "/home/students/s292129/.local/lib/python3.7/site-packages/sklearn/feature_extraction/text.py:1632: RuntimeWarning: divide by zero encountered in true_divide\n",
            "  idf = np.log(n_samples / df) + 1\n",
            "/home/students/s292129/.local/lib/python3.7/site-packages/sklearn/utils/validation.py:1692: FutureWarning: Feature names only support names that are all strings. Got feature names with dtypes: ['int', 'str']. An error will be raised in 1.2.\n",
            "  FutureWarning,\n",
            "/home/students/s292129/.local/lib/python3.7/site-packages/sklearn/feature_extraction/text.py:1632: RuntimeWarning: divide by zero encountered in true_divide\n",
            "  idf = np.log(n_samples / df) + 1\n",
            "/home/students/s292129/.local/lib/python3.7/site-packages/sklearn/utils/validation.py:1692: FutureWarning: Feature names only support names that are all strings. Got feature names with dtypes: ['int', 'str']. An error will be raised in 1.2.\n",
            "  FutureWarning,\n",
            "/home/students/s292129/.local/lib/python3.7/site-packages/sklearn/feature_extraction/text.py:1632: RuntimeWarning: divide by zero encountered in true_divide\n",
            "  idf = np.log(n_samples / df) + 1\n",
            "/home/students/s292129/.local/lib/python3.7/site-packages/sklearn/utils/validation.py:1692: FutureWarning: Feature names only support names that are all strings. Got feature names with dtypes: ['int', 'str']. An error will be raised in 1.2.\n",
            "  FutureWarning,\n",
            "/home/students/s292129/.local/lib/python3.7/site-packages/sklearn/feature_extraction/text.py:1632: RuntimeWarning: divide by zero encountered in true_divide\n",
            "  idf = np.log(n_samples / df) + 1\n",
            "/home/students/s292129/.local/lib/python3.7/site-packages/sklearn/utils/validation.py:1692: FutureWarning: Feature names only support names that are all strings. Got feature names with dtypes: ['int', 'str']. An error will be raised in 1.2.\n",
            "  FutureWarning,\n",
            "/home/students/s292129/.local/lib/python3.7/site-packages/sklearn/utils/validation.py:1692: FutureWarning: Feature names only support names that are all strings. Got feature names with dtypes: ['int', 'str']. An error will be raised in 1.2.\n",
            "  FutureWarning,\n",
            "/home/students/s292129/.local/lib/python3.7/site-packages/sklearn/utils/validation.py:1692: FutureWarning: Feature names only support names that are all strings. Got feature names with dtypes: ['int', 'str']. An error will be raised in 1.2.\n",
            "  FutureWarning,\n",
            "/home/students/s292129/.local/lib/python3.7/site-packages/sklearn/utils/validation.py:1692: FutureWarning: Feature names only support names that are all strings. Got feature names with dtypes: ['int', 'str']. An error will be raised in 1.2.\n",
            "  FutureWarning,\n",
            "/home/students/s292129/.local/lib/python3.7/site-packages/sklearn/feature_extraction/text.py:1632: RuntimeWarning: divide by zero encountered in true_divide\n",
            "  idf = np.log(n_samples / df) + 1\n",
            "/home/students/s292129/.local/lib/python3.7/site-packages/sklearn/utils/validation.py:1692: FutureWarning: Feature names only support names that are all strings. Got feature names with dtypes: ['int', 'str']. An error will be raised in 1.2.\n",
            "  FutureWarning,\n",
            "/home/students/s292129/.local/lib/python3.7/site-packages/sklearn/feature_extraction/text.py:1632: RuntimeWarning: divide by zero encountered in true_divide\n",
            "  idf = np.log(n_samples / df) + 1\n",
            "/home/students/s292129/.local/lib/python3.7/site-packages/sklearn/utils/validation.py:1692: FutureWarning: Feature names only support names that are all strings. Got feature names with dtypes: ['int', 'str']. An error will be raised in 1.2.\n",
            "  FutureWarning,\n",
            "/home/students/s292129/.local/lib/python3.7/site-packages/sklearn/feature_extraction/text.py:1632: RuntimeWarning: divide by zero encountered in true_divide\n",
            "  idf = np.log(n_samples / df) + 1\n",
            "/home/students/s292129/.local/lib/python3.7/site-packages/sklearn/utils/validation.py:1692: FutureWarning: Feature names only support names that are all strings. Got feature names with dtypes: ['int', 'str']. An error will be raised in 1.2.\n",
            "  FutureWarning,\n",
            "/home/students/s292129/.local/lib/python3.7/site-packages/sklearn/feature_extraction/text.py:1632: RuntimeWarning: divide by zero encountered in true_divide\n",
            "  idf = np.log(n_samples / df) + 1\n",
            "/home/students/s292129/.local/lib/python3.7/site-packages/sklearn/utils/validation.py:1692: FutureWarning: Feature names only support names that are all strings. Got feature names with dtypes: ['int', 'str']. An error will be raised in 1.2.\n",
            "  FutureWarning,\n",
            "/home/students/s292129/.local/lib/python3.7/site-packages/sklearn/utils/validation.py:1692: FutureWarning: Feature names only support names that are all strings. Got feature names with dtypes: ['int', 'str']. An error will be raised in 1.2.\n",
            "  FutureWarning,\n",
            "/home/students/s292129/.local/lib/python3.7/site-packages/sklearn/feature_extraction/text.py:1632: RuntimeWarning: divide by zero encountered in true_divide\n",
            "  idf = np.log(n_samples / df) + 1\n",
            "/home/students/s292129/.local/lib/python3.7/site-packages/sklearn/utils/validation.py:1692: FutureWarning: Feature names only support names that are all strings. Got feature names with dtypes: ['int', 'str']. An error will be raised in 1.2.\n",
            "  FutureWarning,\n",
            "/home/students/s292129/.local/lib/python3.7/site-packages/sklearn/feature_extraction/text.py:1632: RuntimeWarning: divide by zero encountered in true_divide\n",
            "  idf = np.log(n_samples / df) + 1\n",
            "/home/students/s292129/.local/lib/python3.7/site-packages/sklearn/utils/validation.py:1692: FutureWarning: Feature names only support names that are all strings. Got feature names with dtypes: ['int', 'str']. An error will be raised in 1.2.\n",
            "  FutureWarning,\n",
            "/home/students/s292129/.local/lib/python3.7/site-packages/sklearn/utils/validation.py:1692: FutureWarning: Feature names only support names that are all strings. Got feature names with dtypes: ['int', 'str']. An error will be raised in 1.2.\n",
            "  FutureWarning,\n",
            "/home/students/s292129/.local/lib/python3.7/site-packages/sklearn/utils/validation.py:1692: FutureWarning: Feature names only support names that are all strings. Got feature names with dtypes: ['int', 'str']. An error will be raised in 1.2.\n",
            "  FutureWarning,\n",
            "/home/students/s292129/.local/lib/python3.7/site-packages/sklearn/utils/validation.py:1692: FutureWarning: Feature names only support names that are all strings. Got feature names with dtypes: ['int', 'str']. An error will be raised in 1.2.\n",
            "  FutureWarning,\n",
            "/home/students/s292129/.local/lib/python3.7/site-packages/sklearn/feature_extraction/text.py:1632: RuntimeWarning: divide by zero encountered in true_divide\n",
            "  idf = np.log(n_samples / df) + 1\n",
            "/home/students/s292129/.local/lib/python3.7/site-packages/sklearn/utils/validation.py:1692: FutureWarning: Feature names only support names that are all strings. Got feature names with dtypes: ['int', 'str']. An error will be raised in 1.2.\n",
            "  FutureWarning,\n",
            "/home/students/s292129/.local/lib/python3.7/site-packages/sklearn/utils/validation.py:1692: FutureWarning: Feature names only support names that are all strings. Got feature names with dtypes: ['int', 'str']. An error will be raised in 1.2.\n",
            "  FutureWarning,\n",
            "/home/students/s292129/.local/lib/python3.7/site-packages/sklearn/utils/validation.py:1692: FutureWarning: Feature names only support names that are all strings. Got feature names with dtypes: ['int', 'str']. An error will be raised in 1.2.\n",
            "  FutureWarning,\n",
            "/home/students/s292129/.local/lib/python3.7/site-packages/sklearn/feature_extraction/text.py:1632: RuntimeWarning: divide by zero encountered in true_divide\n",
            "  idf = np.log(n_samples / df) + 1\n",
            "/home/students/s292129/.local/lib/python3.7/site-packages/sklearn/utils/validation.py:1692: FutureWarning: Feature names only support names that are all strings. Got feature names with dtypes: ['int', 'str']. An error will be raised in 1.2.\n",
            "  FutureWarning,\n",
            "/home/students/s292129/.local/lib/python3.7/site-packages/sklearn/feature_extraction/text.py:1632: RuntimeWarning: divide by zero encountered in true_divide\n",
            "  idf = np.log(n_samples / df) + 1\n",
            "/home/students/s292129/.local/lib/python3.7/site-packages/sklearn/utils/validation.py:1692: FutureWarning: Feature names only support names that are all strings. Got feature names with dtypes: ['int', 'str']. An error will be raised in 1.2.\n",
            "  FutureWarning,\n",
            "/home/students/s292129/.local/lib/python3.7/site-packages/sklearn/feature_extraction/text.py:1632: RuntimeWarning: divide by zero encountered in true_divide\n",
            "  idf = np.log(n_samples / df) + 1\n",
            "/home/students/s292129/.local/lib/python3.7/site-packages/sklearn/utils/validation.py:1692: FutureWarning: Feature names only support names that are all strings. Got feature names with dtypes: ['int', 'str']. An error will be raised in 1.2.\n",
            "  FutureWarning,\n",
            "/home/students/s292129/.local/lib/python3.7/site-packages/sklearn/utils/validation.py:1692: FutureWarning: Feature names only support names that are all strings. Got feature names with dtypes: ['int', 'str']. An error will be raised in 1.2.\n",
            "  FutureWarning,\n",
            "/home/students/s292129/.local/lib/python3.7/site-packages/sklearn/feature_extraction/text.py:1632: RuntimeWarning: divide by zero encountered in true_divide\n",
            "  idf = np.log(n_samples / df) + 1\n",
            "/home/students/s292129/.local/lib/python3.7/site-packages/sklearn/utils/validation.py:1692: FutureWarning: Feature names only support names that are all strings. Got feature names with dtypes: ['int', 'str']. An error will be raised in 1.2.\n",
            "  FutureWarning,\n",
            "/home/students/s292129/.local/lib/python3.7/site-packages/sklearn/utils/validation.py:1692: FutureWarning: Feature names only support names that are all strings. Got feature names with dtypes: ['int', 'str']. An error will be raised in 1.2.\n",
            "  FutureWarning,\n",
            "/home/students/s292129/.local/lib/python3.7/site-packages/sklearn/feature_extraction/text.py:1632: RuntimeWarning: divide by zero encountered in true_divide\n",
            "  idf = np.log(n_samples / df) + 1\n",
            "/home/students/s292129/.local/lib/python3.7/site-packages/sklearn/utils/validation.py:1692: FutureWarning: Feature names only support names that are all strings. Got feature names with dtypes: ['int', 'str']. An error will be raised in 1.2.\n",
            "  FutureWarning,\n",
            "/home/students/s292129/.local/lib/python3.7/site-packages/sklearn/feature_extraction/text.py:1632: RuntimeWarning: divide by zero encountered in true_divide\n",
            "  idf = np.log(n_samples / df) + 1\n",
            "/home/students/s292129/.local/lib/python3.7/site-packages/sklearn/utils/validation.py:1692: FutureWarning: Feature names only support names that are all strings. Got feature names with dtypes: ['int', 'str']. An error will be raised in 1.2.\n",
            "  FutureWarning,\n",
            "/home/students/s292129/.local/lib/python3.7/site-packages/sklearn/feature_extraction/text.py:1632: RuntimeWarning: divide by zero encountered in true_divide\n",
            "  idf = np.log(n_samples / df) + 1\n",
            "/home/students/s292129/.local/lib/python3.7/site-packages/sklearn/utils/validation.py:1692: FutureWarning: Feature names only support names that are all strings. Got feature names with dtypes: ['int', 'str']. An error will be raised in 1.2.\n",
            "  FutureWarning,\n",
            "/home/students/s292129/.local/lib/python3.7/site-packages/sklearn/feature_extraction/text.py:1632: RuntimeWarning: divide by zero encountered in true_divide\n",
            "  idf = np.log(n_samples / df) + 1\n",
            "/home/students/s292129/.local/lib/python3.7/site-packages/sklearn/utils/validation.py:1692: FutureWarning: Feature names only support names that are all strings. Got feature names with dtypes: ['int', 'str']. An error will be raised in 1.2.\n",
            "  FutureWarning,\n",
            "/home/students/s292129/.local/lib/python3.7/site-packages/sklearn/feature_extraction/text.py:1632: RuntimeWarning: divide by zero encountered in true_divide\n",
            "  idf = np.log(n_samples / df) + 1\n",
            "/home/students/s292129/.local/lib/python3.7/site-packages/sklearn/utils/validation.py:1692: FutureWarning: Feature names only support names that are all strings. Got feature names with dtypes: ['int', 'str']. An error will be raised in 1.2.\n",
            "  FutureWarning,\n",
            "/home/students/s292129/.local/lib/python3.7/site-packages/sklearn/feature_extraction/text.py:1632: RuntimeWarning: divide by zero encountered in true_divide\n",
            "  idf = np.log(n_samples / df) + 1\n",
            "/home/students/s292129/.local/lib/python3.7/site-packages/sklearn/utils/validation.py:1692: FutureWarning: Feature names only support names that are all strings. Got feature names with dtypes: ['int', 'str']. An error will be raised in 1.2.\n",
            "  FutureWarning,\n",
            "/home/students/s292129/.local/lib/python3.7/site-packages/sklearn/feature_extraction/text.py:1632: RuntimeWarning: divide by zero encountered in true_divide\n",
            "  idf = np.log(n_samples / df) + 1\n",
            "/home/students/s292129/.local/lib/python3.7/site-packages/sklearn/utils/validation.py:1692: FutureWarning: Feature names only support names that are all strings. Got feature names with dtypes: ['int', 'str']. An error will be raised in 1.2.\n",
            "  FutureWarning,\n",
            "/home/students/s292129/.local/lib/python3.7/site-packages/sklearn/utils/validation.py:1692: FutureWarning: Feature names only support names that are all strings. Got feature names with dtypes: ['int', 'str']. An error will be raised in 1.2.\n",
            "  FutureWarning,\n",
            "/home/students/s292129/.local/lib/python3.7/site-packages/sklearn/feature_extraction/text.py:1632: RuntimeWarning: divide by zero encountered in true_divide\n",
            "  idf = np.log(n_samples / df) + 1\n",
            "/home/students/s292129/.local/lib/python3.7/site-packages/sklearn/utils/validation.py:1692: FutureWarning: Feature names only support names that are all strings. Got feature names with dtypes: ['int', 'str']. An error will be raised in 1.2.\n",
            "  FutureWarning,\n",
            "/home/students/s292129/.local/lib/python3.7/site-packages/sklearn/utils/validation.py:1692: FutureWarning: Feature names only support names that are all strings. Got feature names with dtypes: ['int', 'str']. An error will be raised in 1.2.\n",
            "  FutureWarning,\n",
            "/home/students/s292129/.local/lib/python3.7/site-packages/sklearn/utils/validation.py:1692: FutureWarning: Feature names only support names that are all strings. Got feature names with dtypes: ['int', 'str']. An error will be raised in 1.2.\n",
            "  FutureWarning,\n",
            "/home/students/s292129/.local/lib/python3.7/site-packages/sklearn/feature_extraction/text.py:1632: RuntimeWarning: divide by zero encountered in true_divide\n",
            "  idf = np.log(n_samples / df) + 1\n",
            "/home/students/s292129/.local/lib/python3.7/site-packages/sklearn/utils/validation.py:1692: FutureWarning: Feature names only support names that are all strings. Got feature names with dtypes: ['int', 'str']. An error will be raised in 1.2.\n",
            "  FutureWarning,\n",
            "/home/students/s292129/.local/lib/python3.7/site-packages/sklearn/utils/validation.py:1692: FutureWarning: Feature names only support names that are all strings. Got feature names with dtypes: ['int', 'str']. An error will be raised in 1.2.\n",
            "  FutureWarning,\n",
            "/home/students/s292129/.local/lib/python3.7/site-packages/sklearn/utils/validation.py:1692: FutureWarning: Feature names only support names that are all strings. Got feature names with dtypes: ['int', 'str']. An error will be raised in 1.2.\n",
            "  FutureWarning,\n",
            "/home/students/s292129/.local/lib/python3.7/site-packages/sklearn/feature_extraction/text.py:1632: RuntimeWarning: divide by zero encountered in true_divide\n",
            "  idf = np.log(n_samples / df) + 1\n",
            "/home/students/s292129/.local/lib/python3.7/site-packages/sklearn/utils/validation.py:1692: FutureWarning: Feature names only support names that are all strings. Got feature names with dtypes: ['int', 'str']. An error will be raised in 1.2.\n",
            "  FutureWarning,\n",
            "/home/students/s292129/.local/lib/python3.7/site-packages/sklearn/utils/validation.py:1692: FutureWarning: Feature names only support names that are all strings. Got feature names with dtypes: ['int', 'str']. An error will be raised in 1.2.\n",
            "  FutureWarning,\n",
            "/home/students/s292129/.local/lib/python3.7/site-packages/sklearn/feature_extraction/text.py:1632: RuntimeWarning: divide by zero encountered in true_divide\n",
            "  idf = np.log(n_samples / df) + 1\n",
            "/home/students/s292129/.local/lib/python3.7/site-packages/sklearn/utils/validation.py:1692: FutureWarning: Feature names only support names that are all strings. Got feature names with dtypes: ['int', 'str']. An error will be raised in 1.2.\n",
            "  FutureWarning,\n",
            "/home/students/s292129/.local/lib/python3.7/site-packages/sklearn/feature_extraction/text.py:1632: RuntimeWarning: divide by zero encountered in true_divide\n",
            "  idf = np.log(n_samples / df) + 1\n",
            "/home/students/s292129/.local/lib/python3.7/site-packages/sklearn/utils/validation.py:1692: FutureWarning: Feature names only support names that are all strings. Got feature names with dtypes: ['int', 'str']. An error will be raised in 1.2.\n",
            "  FutureWarning,\n",
            "/home/students/s292129/.local/lib/python3.7/site-packages/sklearn/feature_extraction/text.py:1632: RuntimeWarning: divide by zero encountered in true_divide\n",
            "  idf = np.log(n_samples / df) + 1\n",
            "/home/students/s292129/.local/lib/python3.7/site-packages/sklearn/utils/validation.py:1692: FutureWarning: Feature names only support names that are all strings. Got feature names with dtypes: ['int', 'str']. An error will be raised in 1.2.\n",
            "  FutureWarning,\n",
            "/home/students/s292129/.local/lib/python3.7/site-packages/sklearn/utils/validation.py:1692: FutureWarning: Feature names only support names that are all strings. Got feature names with dtypes: ['int', 'str']. An error will be raised in 1.2.\n",
            "  FutureWarning,\n",
            "/home/students/s292129/.local/lib/python3.7/site-packages/sklearn/feature_extraction/text.py:1632: RuntimeWarning: divide by zero encountered in true_divide\n",
            "  idf = np.log(n_samples / df) + 1\n",
            "/home/students/s292129/.local/lib/python3.7/site-packages/sklearn/utils/validation.py:1692: FutureWarning: Feature names only support names that are all strings. Got feature names with dtypes: ['int', 'str']. An error will be raised in 1.2.\n",
            "  FutureWarning,\n",
            "/home/students/s292129/.local/lib/python3.7/site-packages/sklearn/feature_extraction/text.py:1632: RuntimeWarning: divide by zero encountered in true_divide\n",
            "  idf = np.log(n_samples / df) + 1\n",
            "/home/students/s292129/.local/lib/python3.7/site-packages/sklearn/utils/validation.py:1692: FutureWarning: Feature names only support names that are all strings. Got feature names with dtypes: ['int', 'str']. An error will be raised in 1.2.\n",
            "  FutureWarning,\n",
            "/home/students/s292129/.local/lib/python3.7/site-packages/sklearn/feature_extraction/text.py:1632: RuntimeWarning: divide by zero encountered in true_divide\n",
            "  idf = np.log(n_samples / df) + 1\n",
            "/home/students/s292129/.local/lib/python3.7/site-packages/sklearn/utils/validation.py:1692: FutureWarning: Feature names only support names that are all strings. Got feature names with dtypes: ['int', 'str']. An error will be raised in 1.2.\n",
            "  FutureWarning,\n",
            "/home/students/s292129/.local/lib/python3.7/site-packages/sklearn/feature_extraction/text.py:1632: RuntimeWarning: divide by zero encountered in true_divide\n",
            "  idf = np.log(n_samples / df) + 1\n",
            "/home/students/s292129/.local/lib/python3.7/site-packages/sklearn/utils/validation.py:1692: FutureWarning: Feature names only support names that are all strings. Got feature names with dtypes: ['int', 'str']. An error will be raised in 1.2.\n",
            "  FutureWarning,\n",
            "/home/students/s292129/.local/lib/python3.7/site-packages/sklearn/feature_extraction/text.py:1632: RuntimeWarning: divide by zero encountered in true_divide\n",
            "  idf = np.log(n_samples / df) + 1\n",
            "/home/students/s292129/.local/lib/python3.7/site-packages/sklearn/utils/validation.py:1692: FutureWarning: Feature names only support names that are all strings. Got feature names with dtypes: ['int', 'str']. An error will be raised in 1.2.\n",
            "  FutureWarning,\n",
            "/home/students/s292129/.local/lib/python3.7/site-packages/sklearn/feature_extraction/text.py:1632: RuntimeWarning: divide by zero encountered in true_divide\n",
            "  idf = np.log(n_samples / df) + 1\n",
            "/home/students/s292129/.local/lib/python3.7/site-packages/sklearn/utils/validation.py:1692: FutureWarning: Feature names only support names that are all strings. Got feature names with dtypes: ['int', 'str']. An error will be raised in 1.2.\n",
            "  FutureWarning,\n",
            "/home/students/s292129/.local/lib/python3.7/site-packages/sklearn/feature_extraction/text.py:1632: RuntimeWarning: divide by zero encountered in true_divide\n",
            "  idf = np.log(n_samples / df) + 1\n",
            "/home/students/s292129/.local/lib/python3.7/site-packages/sklearn/utils/validation.py:1692: FutureWarning: Feature names only support names that are all strings. Got feature names with dtypes: ['int', 'str']. An error will be raised in 1.2.\n",
            "  FutureWarning,\n",
            "/home/students/s292129/.local/lib/python3.7/site-packages/sklearn/feature_extraction/text.py:1632: RuntimeWarning: divide by zero encountered in true_divide\n",
            "  idf = np.log(n_samples / df) + 1\n",
            "/home/students/s292129/.local/lib/python3.7/site-packages/sklearn/utils/validation.py:1692: FutureWarning: Feature names only support names that are all strings. Got feature names with dtypes: ['int', 'str']. An error will be raised in 1.2.\n",
            "  FutureWarning,\n",
            "/home/students/s292129/.local/lib/python3.7/site-packages/sklearn/feature_extraction/text.py:1632: RuntimeWarning: divide by zero encountered in true_divide\n",
            "  idf = np.log(n_samples / df) + 1\n",
            "/home/students/s292129/.local/lib/python3.7/site-packages/sklearn/utils/validation.py:1692: FutureWarning: Feature names only support names that are all strings. Got feature names with dtypes: ['int', 'str']. An error will be raised in 1.2.\n",
            "  FutureWarning,\n",
            "/home/students/s292129/.local/lib/python3.7/site-packages/sklearn/utils/validation.py:1692: FutureWarning: Feature names only support names that are all strings. Got feature names with dtypes: ['int', 'str']. An error will be raised in 1.2.\n",
            "  FutureWarning,\n",
            "/home/students/s292129/.local/lib/python3.7/site-packages/sklearn/utils/validation.py:1692: FutureWarning: Feature names only support names that are all strings. Got feature names with dtypes: ['int', 'str']. An error will be raised in 1.2.\n",
            "  FutureWarning,\n",
            "/home/students/s292129/.local/lib/python3.7/site-packages/sklearn/feature_extraction/text.py:1632: RuntimeWarning: divide by zero encountered in true_divide\n",
            "  idf = np.log(n_samples / df) + 1\n",
            "/home/students/s292129/.local/lib/python3.7/site-packages/sklearn/utils/validation.py:1692: FutureWarning: Feature names only support names that are all strings. Got feature names with dtypes: ['int', 'str']. An error will be raised in 1.2.\n",
            "  FutureWarning,\n",
            "/home/students/s292129/.local/lib/python3.7/site-packages/sklearn/utils/validation.py:1692: FutureWarning: Feature names only support names that are all strings. Got feature names with dtypes: ['int', 'str']. An error will be raised in 1.2.\n",
            "  FutureWarning,\n",
            "/home/students/s292129/.local/lib/python3.7/site-packages/sklearn/utils/validation.py:1692: FutureWarning: Feature names only support names that are all strings. Got feature names with dtypes: ['int', 'str']. An error will be raised in 1.2.\n",
            "  FutureWarning,\n",
            "/home/students/s292129/.local/lib/python3.7/site-packages/sklearn/utils/validation.py:1692: FutureWarning: Feature names only support names that are all strings. Got feature names with dtypes: ['int', 'str']. An error will be raised in 1.2.\n",
            "  FutureWarning,\n",
            "/home/students/s292129/.local/lib/python3.7/site-packages/sklearn/utils/validation.py:1692: FutureWarning: Feature names only support names that are all strings. Got feature names with dtypes: ['int', 'str']. An error will be raised in 1.2.\n",
            "  FutureWarning,\n",
            "/home/students/s292129/.local/lib/python3.7/site-packages/sklearn/feature_extraction/text.py:1632: RuntimeWarning: divide by zero encountered in true_divide\n",
            "  idf = np.log(n_samples / df) + 1\n",
            "/home/students/s292129/.local/lib/python3.7/site-packages/sklearn/utils/validation.py:1692: FutureWarning: Feature names only support names that are all strings. Got feature names with dtypes: ['int', 'str']. An error will be raised in 1.2.\n",
            "  FutureWarning,\n",
            "/home/students/s292129/.local/lib/python3.7/site-packages/sklearn/utils/validation.py:1692: FutureWarning: Feature names only support names that are all strings. Got feature names with dtypes: ['int', 'str']. An error will be raised in 1.2.\n",
            "  FutureWarning,\n",
            "/home/students/s292129/.local/lib/python3.7/site-packages/sklearn/utils/validation.py:1692: FutureWarning: Feature names only support names that are all strings. Got feature names with dtypes: ['int', 'str']. An error will be raised in 1.2.\n",
            "  FutureWarning,\n",
            "/home/students/s292129/.local/lib/python3.7/site-packages/sklearn/utils/validation.py:1692: FutureWarning: Feature names only support names that are all strings. Got feature names with dtypes: ['int', 'str']. An error will be raised in 1.2.\n",
            "  FutureWarning,\n",
            "/home/students/s292129/.local/lib/python3.7/site-packages/sklearn/utils/validation.py:1692: FutureWarning: Feature names only support names that are all strings. Got feature names with dtypes: ['int', 'str']. An error will be raised in 1.2.\n",
            "  FutureWarning,\n",
            "/home/students/s292129/.local/lib/python3.7/site-packages/sklearn/feature_extraction/text.py:1632: RuntimeWarning: divide by zero encountered in true_divide\n",
            "  idf = np.log(n_samples / df) + 1\n",
            "/home/students/s292129/.local/lib/python3.7/site-packages/sklearn/utils/validation.py:1692: FutureWarning: Feature names only support names that are all strings. Got feature names with dtypes: ['int', 'str']. An error will be raised in 1.2.\n",
            "  FutureWarning,\n",
            "/home/students/s292129/.local/lib/python3.7/site-packages/sklearn/utils/validation.py:1692: FutureWarning: Feature names only support names that are all strings. Got feature names with dtypes: ['int', 'str']. An error will be raised in 1.2.\n",
            "  FutureWarning,\n",
            "/home/students/s292129/.local/lib/python3.7/site-packages/sklearn/utils/validation.py:1692: FutureWarning: Feature names only support names that are all strings. Got feature names with dtypes: ['int', 'str']. An error will be raised in 1.2.\n",
            "  FutureWarning,\n",
            "/home/students/s292129/.local/lib/python3.7/site-packages/sklearn/utils/validation.py:1692: FutureWarning: Feature names only support names that are all strings. Got feature names with dtypes: ['int', 'str']. An error will be raised in 1.2.\n",
            "  FutureWarning,\n",
            "/home/students/s292129/.local/lib/python3.7/site-packages/sklearn/utils/validation.py:1692: FutureWarning: Feature names only support names that are all strings. Got feature names with dtypes: ['int', 'str']. An error will be raised in 1.2.\n",
            "  FutureWarning,\n",
            "/home/students/s292129/.local/lib/python3.7/site-packages/sklearn/utils/validation.py:1692: FutureWarning: Feature names only support names that are all strings. Got feature names with dtypes: ['int', 'str']. An error will be raised in 1.2.\n",
            "  FutureWarning,\n",
            "/home/students/s292129/.local/lib/python3.7/site-packages/sklearn/feature_extraction/text.py:1632: RuntimeWarning: divide by zero encountered in true_divide\n",
            "  idf = np.log(n_samples / df) + 1\n",
            "/home/students/s292129/.local/lib/python3.7/site-packages/sklearn/utils/validation.py:1692: FutureWarning: Feature names only support names that are all strings. Got feature names with dtypes: ['int', 'str']. An error will be raised in 1.2.\n",
            "  FutureWarning,\n",
            "/home/students/s292129/.local/lib/python3.7/site-packages/sklearn/utils/validation.py:1692: FutureWarning: Feature names only support names that are all strings. Got feature names with dtypes: ['int', 'str']. An error will be raised in 1.2.\n",
            "  FutureWarning,\n",
            "/home/students/s292129/.local/lib/python3.7/site-packages/sklearn/utils/validation.py:1692: FutureWarning: Feature names only support names that are all strings. Got feature names with dtypes: ['int', 'str']. An error will be raised in 1.2.\n",
            "  FutureWarning,\n",
            "/home/students/s292129/.local/lib/python3.7/site-packages/sklearn/utils/validation.py:1692: FutureWarning: Feature names only support names that are all strings. Got feature names with dtypes: ['int', 'str']. An error will be raised in 1.2.\n",
            "  FutureWarning,\n",
            "/home/students/s292129/.local/lib/python3.7/site-packages/sklearn/feature_extraction/text.py:1632: RuntimeWarning: divide by zero encountered in true_divide\n",
            "  idf = np.log(n_samples / df) + 1\n",
            "/home/students/s292129/.local/lib/python3.7/site-packages/sklearn/utils/validation.py:1692: FutureWarning: Feature names only support names that are all strings. Got feature names with dtypes: ['int', 'str']. An error will be raised in 1.2.\n",
            "  FutureWarning,\n",
            "/home/students/s292129/.local/lib/python3.7/site-packages/sklearn/utils/validation.py:1692: FutureWarning: Feature names only support names that are all strings. Got feature names with dtypes: ['int', 'str']. An error will be raised in 1.2.\n",
            "  FutureWarning,\n",
            "/home/students/s292129/.local/lib/python3.7/site-packages/sklearn/feature_extraction/text.py:1632: RuntimeWarning: divide by zero encountered in true_divide\n",
            "  idf = np.log(n_samples / df) + 1\n",
            "/home/students/s292129/.local/lib/python3.7/site-packages/sklearn/utils/validation.py:1692: FutureWarning: Feature names only support names that are all strings. Got feature names with dtypes: ['int', 'str']. An error will be raised in 1.2.\n",
            "  FutureWarning,\n",
            "/home/students/s292129/.local/lib/python3.7/site-packages/sklearn/feature_extraction/text.py:1632: RuntimeWarning: divide by zero encountered in true_divide\n",
            "  idf = np.log(n_samples / df) + 1\n",
            "/home/students/s292129/.local/lib/python3.7/site-packages/sklearn/utils/validation.py:1692: FutureWarning: Feature names only support names that are all strings. Got feature names with dtypes: ['int', 'str']. An error will be raised in 1.2.\n",
            "  FutureWarning,\n",
            "/home/students/s292129/.local/lib/python3.7/site-packages/sklearn/feature_extraction/text.py:1632: RuntimeWarning: divide by zero encountered in true_divide\n",
            "  idf = np.log(n_samples / df) + 1\n",
            "/home/students/s292129/.local/lib/python3.7/site-packages/sklearn/utils/validation.py:1692: FutureWarning: Feature names only support names that are all strings. Got feature names with dtypes: ['int', 'str']. An error will be raised in 1.2.\n",
            "  FutureWarning,\n",
            "/home/students/s292129/.local/lib/python3.7/site-packages/sklearn/feature_extraction/text.py:1632: RuntimeWarning: divide by zero encountered in true_divide\n",
            "  idf = np.log(n_samples / df) + 1\n",
            "/home/students/s292129/.local/lib/python3.7/site-packages/sklearn/utils/validation.py:1692: FutureWarning: Feature names only support names that are all strings. Got feature names with dtypes: ['int', 'str']. An error will be raised in 1.2.\n",
            "  FutureWarning,\n",
            "/home/students/s292129/.local/lib/python3.7/site-packages/sklearn/feature_extraction/text.py:1632: RuntimeWarning: divide by zero encountered in true_divide\n",
            "  idf = np.log(n_samples / df) + 1\n",
            "/home/students/s292129/.local/lib/python3.7/site-packages/sklearn/utils/validation.py:1692: FutureWarning: Feature names only support names that are all strings. Got feature names with dtypes: ['int', 'str']. An error will be raised in 1.2.\n",
            "  FutureWarning,\n",
            "/home/students/s292129/.local/lib/python3.7/site-packages/sklearn/feature_extraction/text.py:1632: RuntimeWarning: divide by zero encountered in true_divide\n",
            "  idf = np.log(n_samples / df) + 1\n",
            "/home/students/s292129/.local/lib/python3.7/site-packages/sklearn/utils/validation.py:1692: FutureWarning: Feature names only support names that are all strings. Got feature names with dtypes: ['int', 'str']. An error will be raised in 1.2.\n",
            "  FutureWarning,\n",
            "/home/students/s292129/.local/lib/python3.7/site-packages/sklearn/feature_extraction/text.py:1632: RuntimeWarning: divide by zero encountered in true_divide\n",
            "  idf = np.log(n_samples / df) + 1\n",
            "/home/students/s292129/.local/lib/python3.7/site-packages/sklearn/utils/validation.py:1692: FutureWarning: Feature names only support names that are all strings. Got feature names with dtypes: ['int', 'str']. An error will be raised in 1.2.\n",
            "  FutureWarning,\n",
            "/home/students/s292129/.local/lib/python3.7/site-packages/sklearn/feature_extraction/text.py:1632: RuntimeWarning: divide by zero encountered in true_divide\n",
            "  idf = np.log(n_samples / df) + 1\n",
            "/home/students/s292129/.local/lib/python3.7/site-packages/sklearn/utils/validation.py:1692: FutureWarning: Feature names only support names that are all strings. Got feature names with dtypes: ['int', 'str']. An error will be raised in 1.2.\n",
            "  FutureWarning,\n",
            "/home/students/s292129/.local/lib/python3.7/site-packages/sklearn/feature_extraction/text.py:1632: RuntimeWarning: divide by zero encountered in true_divide\n",
            "  idf = np.log(n_samples / df) + 1\n",
            "/home/students/s292129/.local/lib/python3.7/site-packages/sklearn/utils/validation.py:1692: FutureWarning: Feature names only support names that are all strings. Got feature names with dtypes: ['int', 'str']. An error will be raised in 1.2.\n",
            "  FutureWarning,\n",
            "/home/students/s292129/.local/lib/python3.7/site-packages/sklearn/feature_extraction/text.py:1632: RuntimeWarning: divide by zero encountered in true_divide\n",
            "  idf = np.log(n_samples / df) + 1\n",
            "/home/students/s292129/.local/lib/python3.7/site-packages/sklearn/utils/validation.py:1692: FutureWarning: Feature names only support names that are all strings. Got feature names with dtypes: ['int', 'str']. An error will be raised in 1.2.\n",
            "  FutureWarning,\n",
            "/home/students/s292129/.local/lib/python3.7/site-packages/sklearn/feature_extraction/text.py:1632: RuntimeWarning: divide by zero encountered in true_divide\n",
            "  idf = np.log(n_samples / df) + 1\n",
            "/home/students/s292129/.local/lib/python3.7/site-packages/sklearn/utils/validation.py:1692: FutureWarning: Feature names only support names that are all strings. Got feature names with dtypes: ['int', 'str']. An error will be raised in 1.2.\n",
            "  FutureWarning,\n",
            "/home/students/s292129/.local/lib/python3.7/site-packages/sklearn/feature_extraction/text.py:1632: RuntimeWarning: divide by zero encountered in true_divide\n",
            "  idf = np.log(n_samples / df) + 1\n",
            "/home/students/s292129/.local/lib/python3.7/site-packages/sklearn/utils/validation.py:1692: FutureWarning: Feature names only support names that are all strings. Got feature names with dtypes: ['int', 'str']. An error will be raised in 1.2.\n",
            "  FutureWarning,\n",
            "/home/students/s292129/.local/lib/python3.7/site-packages/sklearn/feature_extraction/text.py:1632: RuntimeWarning: divide by zero encountered in true_divide\n",
            "  idf = np.log(n_samples / df) + 1\n",
            "/home/students/s292129/.local/lib/python3.7/site-packages/sklearn/utils/validation.py:1692: FutureWarning: Feature names only support names that are all strings. Got feature names with dtypes: ['int', 'str']. An error will be raised in 1.2.\n",
            "  FutureWarning,\n",
            "/home/students/s292129/.local/lib/python3.7/site-packages/sklearn/utils/validation.py:1692: FutureWarning: Feature names only support names that are all strings. Got feature names with dtypes: ['int', 'str']. An error will be raised in 1.2.\n",
            "  FutureWarning,\n",
            "/home/students/s292129/.local/lib/python3.7/site-packages/sklearn/feature_extraction/text.py:1632: RuntimeWarning: divide by zero encountered in true_divide\n",
            "  idf = np.log(n_samples / df) + 1\n",
            "/home/students/s292129/.local/lib/python3.7/site-packages/sklearn/utils/validation.py:1692: FutureWarning: Feature names only support names that are all strings. Got feature names with dtypes: ['int', 'str']. An error will be raised in 1.2.\n",
            "  FutureWarning,\n",
            "/home/students/s292129/.local/lib/python3.7/site-packages/sklearn/feature_extraction/text.py:1632: RuntimeWarning: divide by zero encountered in true_divide\n",
            "  idf = np.log(n_samples / df) + 1\n",
            "/home/students/s292129/.local/lib/python3.7/site-packages/sklearn/utils/validation.py:1692: FutureWarning: Feature names only support names that are all strings. Got feature names with dtypes: ['int', 'str']. An error will be raised in 1.2.\n",
            "  FutureWarning,\n",
            "/home/students/s292129/.local/lib/python3.7/site-packages/sklearn/feature_extraction/text.py:1632: RuntimeWarning: divide by zero encountered in true_divide\n",
            "  idf = np.log(n_samples / df) + 1\n",
            "/home/students/s292129/.local/lib/python3.7/site-packages/sklearn/utils/validation.py:1692: FutureWarning: Feature names only support names that are all strings. Got feature names with dtypes: ['int', 'str']. An error will be raised in 1.2.\n",
            "  FutureWarning,\n",
            "/home/students/s292129/.local/lib/python3.7/site-packages/sklearn/feature_extraction/text.py:1632: RuntimeWarning: divide by zero encountered in true_divide\n",
            "  idf = np.log(n_samples / df) + 1\n",
            "/home/students/s292129/.local/lib/python3.7/site-packages/sklearn/utils/validation.py:1692: FutureWarning: Feature names only support names that are all strings. Got feature names with dtypes: ['int', 'str']. An error will be raised in 1.2.\n",
            "  FutureWarning,\n",
            "/home/students/s292129/.local/lib/python3.7/site-packages/sklearn/utils/validation.py:1692: FutureWarning: Feature names only support names that are all strings. Got feature names with dtypes: ['int', 'str']. An error will be raised in 1.2.\n",
            "  FutureWarning,\n",
            "/home/students/s292129/.local/lib/python3.7/site-packages/sklearn/feature_extraction/text.py:1632: RuntimeWarning: divide by zero encountered in true_divide\n",
            "  idf = np.log(n_samples / df) + 1\n",
            "/home/students/s292129/.local/lib/python3.7/site-packages/sklearn/utils/validation.py:1692: FutureWarning: Feature names only support names that are all strings. Got feature names with dtypes: ['int', 'str']. An error will be raised in 1.2.\n",
            "  FutureWarning,\n",
            "/home/students/s292129/.local/lib/python3.7/site-packages/sklearn/feature_extraction/text.py:1632: RuntimeWarning: divide by zero encountered in true_divide\n",
            "  idf = np.log(n_samples / df) + 1\n",
            "/home/students/s292129/.local/lib/python3.7/site-packages/sklearn/utils/validation.py:1692: FutureWarning: Feature names only support names that are all strings. Got feature names with dtypes: ['int', 'str']. An error will be raised in 1.2.\n",
            "  FutureWarning,\n",
            "/home/students/s292129/.local/lib/python3.7/site-packages/sklearn/feature_extraction/text.py:1632: RuntimeWarning: divide by zero encountered in true_divide\n",
            "  idf = np.log(n_samples / df) + 1\n",
            "/home/students/s292129/.local/lib/python3.7/site-packages/sklearn/utils/validation.py:1692: FutureWarning: Feature names only support names that are all strings. Got feature names with dtypes: ['int', 'str']. An error will be raised in 1.2.\n",
            "  FutureWarning,\n",
            "/home/students/s292129/.local/lib/python3.7/site-packages/sklearn/feature_extraction/text.py:1632: RuntimeWarning: divide by zero encountered in true_divide\n",
            "  idf = np.log(n_samples / df) + 1\n",
            "/home/students/s292129/.local/lib/python3.7/site-packages/sklearn/utils/validation.py:1692: FutureWarning: Feature names only support names that are all strings. Got feature names with dtypes: ['int', 'str']. An error will be raised in 1.2.\n",
            "  FutureWarning,\n",
            "/home/students/s292129/.local/lib/python3.7/site-packages/sklearn/utils/validation.py:1692: FutureWarning: Feature names only support names that are all strings. Got feature names with dtypes: ['int', 'str']. An error will be raised in 1.2.\n",
            "  FutureWarning,\n",
            "/home/students/s292129/.local/lib/python3.7/site-packages/sklearn/feature_extraction/text.py:1632: RuntimeWarning: divide by zero encountered in true_divide\n",
            "  idf = np.log(n_samples / df) + 1\n",
            "/home/students/s292129/.local/lib/python3.7/site-packages/sklearn/utils/validation.py:1692: FutureWarning: Feature names only support names that are all strings. Got feature names with dtypes: ['int', 'str']. An error will be raised in 1.2.\n",
            "  FutureWarning,\n",
            "/home/students/s292129/.local/lib/python3.7/site-packages/sklearn/feature_extraction/text.py:1632: RuntimeWarning: divide by zero encountered in true_divide\n",
            "  idf = np.log(n_samples / df) + 1\n",
            "/home/students/s292129/.local/lib/python3.7/site-packages/sklearn/utils/validation.py:1692: FutureWarning: Feature names only support names that are all strings. Got feature names with dtypes: ['int', 'str']. An error will be raised in 1.2.\n",
            "  FutureWarning,\n",
            "/home/students/s292129/.local/lib/python3.7/site-packages/sklearn/feature_extraction/text.py:1632: RuntimeWarning: divide by zero encountered in true_divide\n",
            "  idf = np.log(n_samples / df) + 1\n",
            "/home/students/s292129/.local/lib/python3.7/site-packages/sklearn/utils/validation.py:1692: FutureWarning: Feature names only support names that are all strings. Got feature names with dtypes: ['int', 'str']. An error will be raised in 1.2.\n",
            "  FutureWarning,\n",
            "/home/students/s292129/.local/lib/python3.7/site-packages/sklearn/feature_extraction/text.py:1632: RuntimeWarning: divide by zero encountered in true_divide\n",
            "  idf = np.log(n_samples / df) + 1\n",
            "/home/students/s292129/.local/lib/python3.7/site-packages/sklearn/utils/validation.py:1692: FutureWarning: Feature names only support names that are all strings. Got feature names with dtypes: ['int', 'str']. An error will be raised in 1.2.\n",
            "  FutureWarning,\n",
            "/home/students/s292129/.local/lib/python3.7/site-packages/sklearn/utils/validation.py:1692: FutureWarning: Feature names only support names that are all strings. Got feature names with dtypes: ['int', 'str']. An error will be raised in 1.2.\n",
            "  FutureWarning,\n",
            "/home/students/s292129/.local/lib/python3.7/site-packages/sklearn/feature_extraction/text.py:1632: RuntimeWarning: divide by zero encountered in true_divide\n",
            "  idf = np.log(n_samples / df) + 1\n",
            "/home/students/s292129/.local/lib/python3.7/site-packages/sklearn/utils/validation.py:1692: FutureWarning: Feature names only support names that are all strings. Got feature names with dtypes: ['int', 'str']. An error will be raised in 1.2.\n",
            "  FutureWarning,\n",
            "/home/students/s292129/.local/lib/python3.7/site-packages/sklearn/feature_extraction/text.py:1632: RuntimeWarning: divide by zero encountered in true_divide\n",
            "  idf = np.log(n_samples / df) + 1\n",
            "/home/students/s292129/.local/lib/python3.7/site-packages/sklearn/utils/validation.py:1692: FutureWarning: Feature names only support names that are all strings. Got feature names with dtypes: ['int', 'str']. An error will be raised in 1.2.\n",
            "  FutureWarning,\n",
            "/home/students/s292129/.local/lib/python3.7/site-packages/sklearn/feature_extraction/text.py:1632: RuntimeWarning: divide by zero encountered in true_divide\n",
            "  idf = np.log(n_samples / df) + 1\n",
            "/home/students/s292129/.local/lib/python3.7/site-packages/sklearn/utils/validation.py:1692: FutureWarning: Feature names only support names that are all strings. Got feature names with dtypes: ['int', 'str']. An error will be raised in 1.2.\n",
            "  FutureWarning,\n",
            "/home/students/s292129/.local/lib/python3.7/site-packages/sklearn/feature_extraction/text.py:1632: RuntimeWarning: divide by zero encountered in true_divide\n",
            "  idf = np.log(n_samples / df) + 1\n",
            "/home/students/s292129/.local/lib/python3.7/site-packages/sklearn/utils/validation.py:1692: FutureWarning: Feature names only support names that are all strings. Got feature names with dtypes: ['int', 'str']. An error will be raised in 1.2.\n",
            "  FutureWarning,\n",
            "/home/students/s292129/.local/lib/python3.7/site-packages/sklearn/utils/validation.py:1692: FutureWarning: Feature names only support names that are all strings. Got feature names with dtypes: ['int', 'str']. An error will be raised in 1.2.\n",
            "  FutureWarning,\n",
            "/home/students/s292129/.local/lib/python3.7/site-packages/sklearn/feature_extraction/text.py:1632: RuntimeWarning: divide by zero encountered in true_divide\n",
            "  idf = np.log(n_samples / df) + 1\n",
            "/home/students/s292129/.local/lib/python3.7/site-packages/sklearn/utils/validation.py:1692: FutureWarning: Feature names only support names that are all strings. Got feature names with dtypes: ['int', 'str']. An error will be raised in 1.2.\n",
            "  FutureWarning,\n",
            "/home/students/s292129/.local/lib/python3.7/site-packages/sklearn/feature_extraction/text.py:1632: RuntimeWarning: divide by zero encountered in true_divide\n",
            "  idf = np.log(n_samples / df) + 1\n",
            "/home/students/s292129/.local/lib/python3.7/site-packages/sklearn/utils/validation.py:1692: FutureWarning: Feature names only support names that are all strings. Got feature names with dtypes: ['int', 'str']. An error will be raised in 1.2.\n",
            "  FutureWarning,\n",
            "/home/students/s292129/.local/lib/python3.7/site-packages/sklearn/feature_extraction/text.py:1632: RuntimeWarning: divide by zero encountered in true_divide\n",
            "  idf = np.log(n_samples / df) + 1\n",
            "/home/students/s292129/.local/lib/python3.7/site-packages/sklearn/utils/validation.py:1692: FutureWarning: Feature names only support names that are all strings. Got feature names with dtypes: ['int', 'str']. An error will be raised in 1.2.\n",
            "  FutureWarning,\n",
            "/home/students/s292129/.local/lib/python3.7/site-packages/sklearn/feature_extraction/text.py:1632: RuntimeWarning: divide by zero encountered in true_divide\n",
            "  idf = np.log(n_samples / df) + 1\n",
            "/home/students/s292129/.local/lib/python3.7/site-packages/sklearn/utils/validation.py:1692: FutureWarning: Feature names only support names that are all strings. Got feature names with dtypes: ['int', 'str']. An error will be raised in 1.2.\n",
            "  FutureWarning,\n",
            "/home/students/s292129/.local/lib/python3.7/site-packages/sklearn/feature_extraction/text.py:1632: RuntimeWarning: divide by zero encountered in true_divide\n",
            "  idf = np.log(n_samples / df) + 1\n",
            "/home/students/s292129/.local/lib/python3.7/site-packages/sklearn/utils/validation.py:1692: FutureWarning: Feature names only support names that are all strings. Got feature names with dtypes: ['int', 'str']. An error will be raised in 1.2.\n",
            "  FutureWarning,\n",
            "/home/students/s292129/.local/lib/python3.7/site-packages/sklearn/utils/validation.py:1692: FutureWarning: Feature names only support names that are all strings. Got feature names with dtypes: ['int', 'str']. An error will be raised in 1.2.\n",
            "  FutureWarning,\n",
            "/home/students/s292129/.local/lib/python3.7/site-packages/sklearn/feature_extraction/text.py:1632: RuntimeWarning: divide by zero encountered in true_divide\n",
            "  idf = np.log(n_samples / df) + 1\n",
            "/home/students/s292129/.local/lib/python3.7/site-packages/sklearn/utils/validation.py:1692: FutureWarning: Feature names only support names that are all strings. Got feature names with dtypes: ['int', 'str']. An error will be raised in 1.2.\n",
            "  FutureWarning,\n",
            "/home/students/s292129/.local/lib/python3.7/site-packages/sklearn/feature_extraction/text.py:1632: RuntimeWarning: divide by zero encountered in true_divide\n",
            "  idf = np.log(n_samples / df) + 1\n",
            "/home/students/s292129/.local/lib/python3.7/site-packages/sklearn/utils/validation.py:1692: FutureWarning: Feature names only support names that are all strings. Got feature names with dtypes: ['int', 'str']. An error will be raised in 1.2.\n",
            "  FutureWarning,\n",
            "/home/students/s292129/.local/lib/python3.7/site-packages/sklearn/feature_extraction/text.py:1632: RuntimeWarning: divide by zero encountered in true_divide\n",
            "  idf = np.log(n_samples / df) + 1\n",
            "/home/students/s292129/.local/lib/python3.7/site-packages/sklearn/utils/validation.py:1692: FutureWarning: Feature names only support names that are all strings. Got feature names with dtypes: ['int', 'str']. An error will be raised in 1.2.\n",
            "  FutureWarning,\n",
            "/home/students/s292129/.local/lib/python3.7/site-packages/sklearn/feature_extraction/text.py:1632: RuntimeWarning: divide by zero encountered in true_divide\n",
            "  idf = np.log(n_samples / df) + 1\n",
            "/home/students/s292129/.local/lib/python3.7/site-packages/sklearn/utils/validation.py:1692: FutureWarning: Feature names only support names that are all strings. Got feature names with dtypes: ['int', 'str']. An error will be raised in 1.2.\n",
            "  FutureWarning,\n",
            "/home/students/s292129/.local/lib/python3.7/site-packages/sklearn/feature_extraction/text.py:1632: RuntimeWarning: divide by zero encountered in true_divide\n",
            "  idf = np.log(n_samples / df) + 1\n",
            "/home/students/s292129/.local/lib/python3.7/site-packages/sklearn/utils/validation.py:1692: FutureWarning: Feature names only support names that are all strings. Got feature names with dtypes: ['int', 'str']. An error will be raised in 1.2.\n",
            "  FutureWarning,\n",
            "/home/students/s292129/.local/lib/python3.7/site-packages/sklearn/feature_extraction/text.py:1632: RuntimeWarning: divide by zero encountered in true_divide\n",
            "  idf = np.log(n_samples / df) + 1\n",
            "/home/students/s292129/.local/lib/python3.7/site-packages/sklearn/utils/validation.py:1692: FutureWarning: Feature names only support names that are all strings. Got feature names with dtypes: ['int', 'str']. An error will be raised in 1.2.\n",
            "  FutureWarning,\n",
            "/home/students/s292129/.local/lib/python3.7/site-packages/sklearn/feature_extraction/text.py:1632: RuntimeWarning: divide by zero encountered in true_divide\n",
            "  idf = np.log(n_samples / df) + 1\n",
            "/home/students/s292129/.local/lib/python3.7/site-packages/sklearn/utils/validation.py:1692: FutureWarning: Feature names only support names that are all strings. Got feature names with dtypes: ['int', 'str']. An error will be raised in 1.2.\n",
            "  FutureWarning,\n",
            "/home/students/s292129/.local/lib/python3.7/site-packages/sklearn/feature_extraction/text.py:1632: RuntimeWarning: divide by zero encountered in true_divide\n",
            "  idf = np.log(n_samples / df) + 1\n",
            "/home/students/s292129/.local/lib/python3.7/site-packages/sklearn/utils/validation.py:1692: FutureWarning: Feature names only support names that are all strings. Got feature names with dtypes: ['int', 'str']. An error will be raised in 1.2.\n",
            "  FutureWarning,\n",
            "/home/students/s292129/.local/lib/python3.7/site-packages/sklearn/utils/validation.py:1692: FutureWarning: Feature names only support names that are all strings. Got feature names with dtypes: ['int', 'str']. An error will be raised in 1.2.\n",
            "  FutureWarning,\n",
            "/home/students/s292129/.local/lib/python3.7/site-packages/sklearn/utils/validation.py:1692: FutureWarning: Feature names only support names that are all strings. Got feature names with dtypes: ['int', 'str']. An error will be raised in 1.2.\n",
            "  FutureWarning,\n",
            "/home/students/s292129/.local/lib/python3.7/site-packages/sklearn/feature_extraction/text.py:1632: RuntimeWarning: divide by zero encountered in true_divide\n",
            "  idf = np.log(n_samples / df) + 1\n",
            "/home/students/s292129/.local/lib/python3.7/site-packages/sklearn/utils/validation.py:1692: FutureWarning: Feature names only support names that are all strings. Got feature names with dtypes: ['int', 'str']. An error will be raised in 1.2.\n",
            "  FutureWarning,\n",
            "/home/students/s292129/.local/lib/python3.7/site-packages/sklearn/feature_extraction/text.py:1632: RuntimeWarning: divide by zero encountered in true_divide\n",
            "  idf = np.log(n_samples / df) + 1\n",
            "/home/students/s292129/.local/lib/python3.7/site-packages/sklearn/utils/validation.py:1692: FutureWarning: Feature names only support names that are all strings. Got feature names with dtypes: ['int', 'str']. An error will be raised in 1.2.\n",
            "  FutureWarning,\n",
            "/home/students/s292129/.local/lib/python3.7/site-packages/sklearn/feature_extraction/text.py:1632: RuntimeWarning: divide by zero encountered in true_divide\n",
            "  idf = np.log(n_samples / df) + 1\n",
            "/home/students/s292129/.local/lib/python3.7/site-packages/sklearn/utils/validation.py:1692: FutureWarning: Feature names only support names that are all strings. Got feature names with dtypes: ['int', 'str']. An error will be raised in 1.2.\n",
            "  FutureWarning,\n",
            "/home/students/s292129/.local/lib/python3.7/site-packages/sklearn/feature_extraction/text.py:1632: RuntimeWarning: divide by zero encountered in true_divide\n",
            "  idf = np.log(n_samples / df) + 1\n",
            "/home/students/s292129/.local/lib/python3.7/site-packages/sklearn/utils/validation.py:1692: FutureWarning: Feature names only support names that are all strings. Got feature names with dtypes: ['int', 'str']. An error will be raised in 1.2.\n",
            "  FutureWarning,\n",
            "/home/students/s292129/.local/lib/python3.7/site-packages/sklearn/utils/validation.py:1692: FutureWarning: Feature names only support names that are all strings. Got feature names with dtypes: ['int', 'str']. An error will be raised in 1.2.\n",
            "  FutureWarning,\n",
            "/home/students/s292129/.local/lib/python3.7/site-packages/sklearn/feature_extraction/text.py:1632: RuntimeWarning: divide by zero encountered in true_divide\n",
            "  idf = np.log(n_samples / df) + 1\n",
            "/home/students/s292129/.local/lib/python3.7/site-packages/sklearn/utils/validation.py:1692: FutureWarning: Feature names only support names that are all strings. Got feature names with dtypes: ['int', 'str']. An error will be raised in 1.2.\n",
            "  FutureWarning,\n",
            "/home/students/s292129/.local/lib/python3.7/site-packages/sklearn/utils/validation.py:1692: FutureWarning: Feature names only support names that are all strings. Got feature names with dtypes: ['int', 'str']. An error will be raised in 1.2.\n",
            "  FutureWarning,\n",
            "/home/students/s292129/.local/lib/python3.7/site-packages/sklearn/utils/validation.py:1692: FutureWarning: Feature names only support names that are all strings. Got feature names with dtypes: ['int', 'str']. An error will be raised in 1.2.\n",
            "  FutureWarning,\n",
            "/home/students/s292129/.local/lib/python3.7/site-packages/sklearn/feature_extraction/text.py:1632: RuntimeWarning: divide by zero encountered in true_divide\n",
            "  idf = np.log(n_samples / df) + 1\n",
            "/home/students/s292129/.local/lib/python3.7/site-packages/sklearn/utils/validation.py:1692: FutureWarning: Feature names only support names that are all strings. Got feature names with dtypes: ['int', 'str']. An error will be raised in 1.2.\n",
            "  FutureWarning,\n",
            "/home/students/s292129/.local/lib/python3.7/site-packages/sklearn/feature_extraction/text.py:1632: RuntimeWarning: divide by zero encountered in true_divide\n",
            "  idf = np.log(n_samples / df) + 1\n",
            "/home/students/s292129/.local/lib/python3.7/site-packages/sklearn/utils/validation.py:1692: FutureWarning: Feature names only support names that are all strings. Got feature names with dtypes: ['int', 'str']. An error will be raised in 1.2.\n",
            "  FutureWarning,\n",
            "/home/students/s292129/.local/lib/python3.7/site-packages/sklearn/feature_extraction/text.py:1632: RuntimeWarning: divide by zero encountered in true_divide\n",
            "  idf = np.log(n_samples / df) + 1\n",
            "/home/students/s292129/.local/lib/python3.7/site-packages/sklearn/utils/validation.py:1692: FutureWarning: Feature names only support names that are all strings. Got feature names with dtypes: ['int', 'str']. An error will be raised in 1.2.\n",
            "  FutureWarning,\n",
            "/home/students/s292129/.local/lib/python3.7/site-packages/sklearn/feature_extraction/text.py:1632: RuntimeWarning: divide by zero encountered in true_divide\n",
            "  idf = np.log(n_samples / df) + 1\n",
            "/home/students/s292129/.local/lib/python3.7/site-packages/sklearn/utils/validation.py:1692: FutureWarning: Feature names only support names that are all strings. Got feature names with dtypes: ['int', 'str']. An error will be raised in 1.2.\n",
            "  FutureWarning,\n",
            "/home/students/s292129/.local/lib/python3.7/site-packages/sklearn/feature_extraction/text.py:1632: RuntimeWarning: divide by zero encountered in true_divide\n",
            "  idf = np.log(n_samples / df) + 1\n",
            "/home/students/s292129/.local/lib/python3.7/site-packages/sklearn/utils/validation.py:1692: FutureWarning: Feature names only support names that are all strings. Got feature names with dtypes: ['int', 'str']. An error will be raised in 1.2.\n",
            "  FutureWarning,\n",
            "/home/students/s292129/.local/lib/python3.7/site-packages/sklearn/feature_extraction/text.py:1632: RuntimeWarning: divide by zero encountered in true_divide\n",
            "  idf = np.log(n_samples / df) + 1\n",
            "/home/students/s292129/.local/lib/python3.7/site-packages/sklearn/utils/validation.py:1692: FutureWarning: Feature names only support names that are all strings. Got feature names with dtypes: ['int', 'str']. An error will be raised in 1.2.\n",
            "  FutureWarning,\n",
            "/home/students/s292129/.local/lib/python3.7/site-packages/sklearn/feature_extraction/text.py:1632: RuntimeWarning: divide by zero encountered in true_divide\n",
            "  idf = np.log(n_samples / df) + 1\n"
          ]
        },
        {
          "data": {
            "text/plain": [
              "GridSearchCV(cv=5,\n",
              "             estimator=Pipeline(steps=[('ct',\n",
              "                                        ColumnTransformer(remainder='passthrough',\n",
              "                                                          transformers=[('tfidf',\n",
              "                                                                         TfidfVectorizer(tokenizer=<__main__.Tokenizer object at 0x7f8005e98f90>),\n",
              "                                                                         'text')])),\n",
              "                                       ('classify',\n",
              "                                        LogisticRegression(max_iter=2000,\n",
              "                                                           n_jobs=-1))]),\n",
              "             param_grid={'ct__tfidf__max_df': [0.3, 0.5, 0.7],\n",
              "                         'ct__tfidf__max_features': [60000, 70000],\n",
              "                         'ct__tfidf__min_df': [1, 2, 3],\n",
              "                         'ct__tfidf__ngram_range': [(1, 2), (1, 3)]},\n",
              "             scoring='f1_macro', verbose=1)"
            ]
          },
          "execution_count": 13,
          "metadata": {},
          "output_type": "execute_result"
        }
      ],
      "source": [
        "gs = GridSearchCV(pipe,\n",
        "             param_grid={'ct__tfidf__ngram_range': [(1, 2), (1, 3)],\n",
        "                        'ct__tfidf__max_features': [50000, 60000, 70000],\n",
        "                        'ct__tfidf__max_df': [0.3, 0.5, 0.7],\n",
        "                        'ct__tfidf__min_df': [1, 2, 3]},\n",
        "             cv=5,\n",
        "             scoring='f1_macro',\n",
        "             refit=True,\n",
        "             verbose=1)\n",
        "\n",
        "gs.fit(X, y)"
      ]
    },
    {
      "cell_type": "code",
      "execution_count": null,
      "metadata": {
        "id": "mzij3zN8oL1w",
        "outputId": "7e684a85-0e5d-41de-b70b-82a995a2fab4"
      },
      "outputs": [
        {
          "data": {
            "text/plain": [
              "{'ct__tfidf__max_df': 0.5,\n",
              " 'ct__tfidf__max_features': 60000,\n",
              " 'ct__tfidf__min_df': 1,\n",
              " 'ct__tfidf__ngram_range': (1, 3)}"
            ]
          },
          "execution_count": 17,
          "metadata": {},
          "output_type": "execute_result"
        }
      ],
      "source": [
        "gs.best_params_"
      ]
    },
    {
      "cell_type": "code",
      "execution_count": null,
      "metadata": {
        "id": "K8ssQezsoL1w"
      },
      "outputs": [],
      "source": [
        "# initialise model and vectorizers\n",
        "model = LogisticRegression(max_iter=2000, n_jobs=-1)\n",
        "vectorizer = TfidfVectorizer(tokenizer=tknzr, max_df=0.5, min_df=1, ngram_range=(1, 3))\n",
        "\n",
        "# construct the column transfomer\n",
        "column_transformer = ColumnTransformer(\n",
        "    [('tfidf', vectorizer, 'text')],\n",
        "    remainder='passthrough')\n",
        "\n",
        "#model.fit(X_transf, y)\n",
        "pipe = Pipeline([\n",
        "                  ('ct', column_transformer),\n",
        "                  ('classify', model)\n",
        "                ])"
      ]
    },
    {
      "cell_type": "code",
      "execution_count": null,
      "metadata": {
        "collapsed": true,
        "id": "XcmvCE0VoL1w",
        "jupyter": {
          "outputs_hidden": true
        },
        "outputId": "8803c8f3-3376-4815-ed4b-888f48562c8d"
      },
      "outputs": [
        {
          "name": "stdout",
          "output_type": "stream",
          "text": [
            "Fitting 5 folds for each of 3 candidates, totalling 15 fits\n"
          ]
        },
        {
          "name": "stderr",
          "output_type": "stream",
          "text": [
            "/home/students/s292129/.local/lib/python3.7/site-packages/sklearn/utils/validation.py:1692: FutureWarning: Feature names only support names that are all strings. Got feature names with dtypes: ['int', 'str']. An error will be raised in 1.2.\n",
            "  FutureWarning,\n",
            "/home/students/s292129/.local/lib/python3.7/site-packages/sklearn/feature_extraction/text.py:1632: RuntimeWarning: divide by zero encountered in true_divide\n",
            "  idf = np.log(n_samples / df) + 1\n",
            "/home/students/s292129/.local/lib/python3.7/site-packages/sklearn/utils/validation.py:1692: FutureWarning: Feature names only support names that are all strings. Got feature names with dtypes: ['int', 'str']. An error will be raised in 1.2.\n",
            "  FutureWarning,\n",
            "/home/students/s292129/.local/lib/python3.7/site-packages/sklearn/feature_extraction/text.py:1632: RuntimeWarning: divide by zero encountered in true_divide\n",
            "  idf = np.log(n_samples / df) + 1\n",
            "/home/students/s292129/.local/lib/python3.7/site-packages/sklearn/utils/validation.py:1692: FutureWarning: Feature names only support names that are all strings. Got feature names with dtypes: ['int', 'str']. An error will be raised in 1.2.\n",
            "  FutureWarning,\n",
            "/home/students/s292129/.local/lib/python3.7/site-packages/sklearn/feature_extraction/text.py:1632: RuntimeWarning: divide by zero encountered in true_divide\n",
            "  idf = np.log(n_samples / df) + 1\n",
            "/home/students/s292129/.local/lib/python3.7/site-packages/sklearn/utils/validation.py:1692: FutureWarning: Feature names only support names that are all strings. Got feature names with dtypes: ['int', 'str']. An error will be raised in 1.2.\n",
            "  FutureWarning,\n",
            "/home/students/s292129/.local/lib/python3.7/site-packages/sklearn/feature_extraction/text.py:1632: RuntimeWarning: divide by zero encountered in true_divide\n",
            "  idf = np.log(n_samples / df) + 1\n",
            "/home/students/s292129/.local/lib/python3.7/site-packages/sklearn/utils/validation.py:1692: FutureWarning: Feature names only support names that are all strings. Got feature names with dtypes: ['int', 'str']. An error will be raised in 1.2.\n",
            "  FutureWarning,\n",
            "/home/students/s292129/.local/lib/python3.7/site-packages/sklearn/feature_extraction/text.py:1632: RuntimeWarning: divide by zero encountered in true_divide\n",
            "  idf = np.log(n_samples / df) + 1\n",
            "/home/students/s292129/.local/lib/python3.7/site-packages/sklearn/utils/validation.py:1692: FutureWarning: Feature names only support names that are all strings. Got feature names with dtypes: ['int', 'str']. An error will be raised in 1.2.\n",
            "  FutureWarning,\n",
            "/home/students/s292129/.local/lib/python3.7/site-packages/sklearn/feature_extraction/text.py:1632: RuntimeWarning: divide by zero encountered in true_divide\n",
            "  idf = np.log(n_samples / df) + 1\n",
            "/home/students/s292129/.local/lib/python3.7/site-packages/sklearn/utils/validation.py:1692: FutureWarning: Feature names only support names that are all strings. Got feature names with dtypes: ['int', 'str']. An error will be raised in 1.2.\n",
            "  FutureWarning,\n",
            "/home/students/s292129/.local/lib/python3.7/site-packages/sklearn/feature_extraction/text.py:1632: RuntimeWarning: divide by zero encountered in true_divide\n",
            "  idf = np.log(n_samples / df) + 1\n",
            "/home/students/s292129/.local/lib/python3.7/site-packages/sklearn/utils/validation.py:1692: FutureWarning: Feature names only support names that are all strings. Got feature names with dtypes: ['int', 'str']. An error will be raised in 1.2.\n",
            "  FutureWarning,\n",
            "/home/students/s292129/.local/lib/python3.7/site-packages/sklearn/feature_extraction/text.py:1632: RuntimeWarning: divide by zero encountered in true_divide\n",
            "  idf = np.log(n_samples / df) + 1\n",
            "/home/students/s292129/.local/lib/python3.7/site-packages/sklearn/utils/validation.py:1692: FutureWarning: Feature names only support names that are all strings. Got feature names with dtypes: ['int', 'str']. An error will be raised in 1.2.\n",
            "  FutureWarning,\n",
            "/home/students/s292129/.local/lib/python3.7/site-packages/sklearn/utils/validation.py:1692: FutureWarning: Feature names only support names that are all strings. Got feature names with dtypes: ['int', 'str']. An error will be raised in 1.2.\n",
            "  FutureWarning,\n",
            "/home/students/s292129/.local/lib/python3.7/site-packages/sklearn/utils/validation.py:1692: FutureWarning: Feature names only support names that are all strings. Got feature names with dtypes: ['int', 'str']. An error will be raised in 1.2.\n",
            "  FutureWarning,\n",
            "/home/students/s292129/.local/lib/python3.7/site-packages/sklearn/feature_extraction/text.py:1632: RuntimeWarning: divide by zero encountered in true_divide\n",
            "  idf = np.log(n_samples / df) + 1\n",
            "/home/students/s292129/.local/lib/python3.7/site-packages/sklearn/utils/validation.py:1692: FutureWarning: Feature names only support names that are all strings. Got feature names with dtypes: ['int', 'str']. An error will be raised in 1.2.\n",
            "  FutureWarning,\n",
            "/home/students/s292129/.local/lib/python3.7/site-packages/sklearn/feature_extraction/text.py:1632: RuntimeWarning: divide by zero encountered in true_divide\n",
            "  idf = np.log(n_samples / df) + 1\n",
            "/home/students/s292129/.local/lib/python3.7/site-packages/sklearn/utils/validation.py:1692: FutureWarning: Feature names only support names that are all strings. Got feature names with dtypes: ['int', 'str']. An error will be raised in 1.2.\n",
            "  FutureWarning,\n",
            "/home/students/s292129/.local/lib/python3.7/site-packages/sklearn/feature_extraction/text.py:1632: RuntimeWarning: divide by zero encountered in true_divide\n",
            "  idf = np.log(n_samples / df) + 1\n",
            "/home/students/s292129/.local/lib/python3.7/site-packages/sklearn/utils/validation.py:1692: FutureWarning: Feature names only support names that are all strings. Got feature names with dtypes: ['int', 'str']. An error will be raised in 1.2.\n",
            "  FutureWarning,\n",
            "/home/students/s292129/.local/lib/python3.7/site-packages/sklearn/feature_extraction/text.py:1632: RuntimeWarning: divide by zero encountered in true_divide\n",
            "  idf = np.log(n_samples / df) + 1\n",
            "/home/students/s292129/.local/lib/python3.7/site-packages/sklearn/utils/validation.py:1692: FutureWarning: Feature names only support names that are all strings. Got feature names with dtypes: ['int', 'str']. An error will be raised in 1.2.\n",
            "  FutureWarning,\n",
            "/home/students/s292129/.local/lib/python3.7/site-packages/sklearn/utils/validation.py:1692: FutureWarning: Feature names only support names that are all strings. Got feature names with dtypes: ['int', 'str']. An error will be raised in 1.2.\n",
            "  FutureWarning,\n",
            "/home/students/s292129/.local/lib/python3.7/site-packages/sklearn/feature_extraction/text.py:1632: RuntimeWarning: divide by zero encountered in true_divide\n",
            "  idf = np.log(n_samples / df) + 1\n"
          ]
        },
        {
          "data": {
            "text/plain": [
              "GridSearchCV(cv=5,\n",
              "             estimator=Pipeline(steps=[('ct',\n",
              "                                        ColumnTransformer(remainder='passthrough',\n",
              "                                                          transformers=[('tfidf',\n",
              "                                                                         TfidfVectorizer(max_df=0.5,\n",
              "                                                                                         ngram_range=(1,\n",
              "                                                                                                      3),\n",
              "                                                                                         tokenizer=<__main__.Tokenizer object at 0x7f8005e98f90>),\n",
              "                                                                         'text')])),\n",
              "                                       ('classify',\n",
              "                                        LogisticRegression(max_iter=2000,\n",
              "                                                           n_jobs=-1))]),\n",
              "             param_grid={'ct__tfidf__max_features': [40000, 50000, 60000]},\n",
              "             scoring='f1_macro', verbose=1)"
            ]
          },
          "execution_count": 19,
          "metadata": {},
          "output_type": "execute_result"
        }
      ],
      "source": [
        "gs = GridSearchCV(pipe,\n",
        "             param_grid={\n",
        "                        'ct__tfidf__max_features': [40000, 50000, 60000],\n",
        "             },       \n",
        "             cv=5,\n",
        "             scoring='f1_macro',\n",
        "             refit=True,\n",
        "             verbose=1)\n",
        "\n",
        "gs.fit(X, y)"
      ]
    },
    {
      "cell_type": "code",
      "execution_count": null,
      "metadata": {
        "id": "NSojy0X9oL1x",
        "outputId": "37d9fc02-577b-40ad-f44d-6b01c6ca7fc6"
      },
      "outputs": [
        {
          "data": {
            "text/plain": [
              "{'ct__tfidf__max_features': 60000}"
            ]
          },
          "execution_count": 20,
          "metadata": {},
          "output_type": "execute_result"
        }
      ],
      "source": [
        "gs.best_params_"
      ]
    },
    {
      "cell_type": "markdown",
      "metadata": {
        "id": "98Q7VEwxoL1x"
      },
      "source": [
        "# Model selection"
      ]
    },
    {
      "cell_type": "code",
      "execution_count": null,
      "metadata": {
        "id": "lN7wYek4oL1x"
      },
      "outputs": [],
      "source": [
        "models = [RandomForestClassifier(n_estimators=50),\n",
        "          LogisticRegression(max_iter=1000),\n",
        "          LinearSVC(max_iter=1000)]\n",
        "\n",
        "names = [\n",
        "'random forest',\n",
        "'logistic regression',\n",
        "'linear svc'\n",
        "]"
      ]
    },
    {
      "cell_type": "code",
      "execution_count": null,
      "metadata": {
        "collapsed": true,
        "id": "0VSQwJIfoL1x",
        "outputId": "6346de09-0824-4c82-d352-28a8c0f8e03f"
      },
      "outputs": [
        {
          "name": "stderr",
          "output_type": "stream",
          "text": [
            "/home/students/s292129/.local/lib/python3.7/site-packages/sklearn/utils/validation.py:1692: FutureWarning: Feature names only support names that are all strings. Got feature names with dtypes: ['date', 'int', 'str']. An error will be raised in 1.2.\n",
            "  FutureWarning,\n",
            "/home/students/s292129/.local/lib/python3.7/site-packages/sklearn/feature_extraction/text.py:1632: RuntimeWarning: divide by zero encountered in true_divide\n",
            "  idf = np.log(n_samples / df) + 1\n",
            "/home/students/s292129/.local/lib/python3.7/site-packages/sklearn/utils/validation.py:1692: FutureWarning: Feature names only support names that are all strings. Got feature names with dtypes: ['date', 'int', 'str']. An error will be raised in 1.2.\n",
            "  FutureWarning,\n",
            "/home/students/s292129/.local/lib/python3.7/site-packages/sklearn/feature_extraction/text.py:1632: RuntimeWarning: divide by zero encountered in true_divide\n",
            "  idf = np.log(n_samples / df) + 1\n",
            "/home/students/s292129/.local/lib/python3.7/site-packages/sklearn/utils/validation.py:1692: FutureWarning: Feature names only support names that are all strings. Got feature names with dtypes: ['date', 'int', 'str']. An error will be raised in 1.2.\n",
            "  FutureWarning,\n",
            "/home/students/s292129/.local/lib/python3.7/site-packages/sklearn/feature_extraction/text.py:1632: RuntimeWarning: divide by zero encountered in true_divide\n",
            "  idf = np.log(n_samples / df) + 1\n",
            "/home/students/s292129/.local/lib/python3.7/site-packages/sklearn/utils/validation.py:1692: FutureWarning: Feature names only support names that are all strings. Got feature names with dtypes: ['date', 'int', 'str']. An error will be raised in 1.2.\n",
            "  FutureWarning,\n",
            "/home/students/s292129/.local/lib/python3.7/site-packages/sklearn/feature_extraction/text.py:1632: RuntimeWarning: divide by zero encountered in true_divide\n",
            "  idf = np.log(n_samples / df) + 1\n",
            "/home/students/s292129/.local/lib/python3.7/site-packages/sklearn/utils/validation.py:1692: FutureWarning: Feature names only support names that are all strings. Got feature names with dtypes: ['date', 'int', 'str']. An error will be raised in 1.2.\n",
            "  FutureWarning,\n",
            "/home/students/s292129/.local/lib/python3.7/site-packages/sklearn/feature_extraction/text.py:1632: RuntimeWarning: divide by zero encountered in true_divide\n",
            "  idf = np.log(n_samples / df) + 1\n",
            "/home/students/s292129/.local/lib/python3.7/site-packages/sklearn/utils/validation.py:1692: FutureWarning: Feature names only support names that are all strings. Got feature names with dtypes: ['date', 'int', 'str']. An error will be raised in 1.2.\n",
            "  FutureWarning,\n",
            "/home/students/s292129/.local/lib/python3.7/site-packages/sklearn/feature_extraction/text.py:1632: RuntimeWarning: divide by zero encountered in true_divide\n",
            "  idf = np.log(n_samples / df) + 1\n",
            "/home/students/s292129/.local/lib/python3.7/site-packages/sklearn/utils/validation.py:1692: FutureWarning: Feature names only support names that are all strings. Got feature names with dtypes: ['date', 'int', 'str']. An error will be raised in 1.2.\n",
            "  FutureWarning,\n",
            "/home/students/s292129/.local/lib/python3.7/site-packages/sklearn/feature_extraction/text.py:1632: RuntimeWarning: divide by zero encountered in true_divide\n",
            "  idf = np.log(n_samples / df) + 1\n",
            "/home/students/s292129/.local/lib/python3.7/site-packages/sklearn/utils/validation.py:1692: FutureWarning: Feature names only support names that are all strings. Got feature names with dtypes: ['date', 'int', 'str']. An error will be raised in 1.2.\n",
            "  FutureWarning,\n",
            "/home/students/s292129/.local/lib/python3.7/site-packages/sklearn/feature_extraction/text.py:1632: RuntimeWarning: divide by zero encountered in true_divide\n",
            "  idf = np.log(n_samples / df) + 1\n",
            "/home/students/s292129/.local/lib/python3.7/site-packages/sklearn/utils/validation.py:1692: FutureWarning: Feature names only support names that are all strings. Got feature names with dtypes: ['date', 'int', 'str']. An error will be raised in 1.2.\n",
            "  FutureWarning,\n",
            "/home/students/s292129/.local/lib/python3.7/site-packages/sklearn/feature_extraction/text.py:1632: RuntimeWarning: divide by zero encountered in true_divide\n",
            "  idf = np.log(n_samples / df) + 1\n",
            "/home/students/s292129/.local/lib/python3.7/site-packages/sklearn/utils/validation.py:1692: FutureWarning: Feature names only support names that are all strings. Got feature names with dtypes: ['date', 'int', 'str']. An error will be raised in 1.2.\n",
            "  FutureWarning,\n",
            "/home/students/s292129/.local/lib/python3.7/site-packages/sklearn/feature_extraction/text.py:1632: RuntimeWarning: divide by zero encountered in true_divide\n",
            "  idf = np.log(n_samples / df) + 1\n",
            "/home/students/s292129/.local/lib/python3.7/site-packages/sklearn/utils/validation.py:1692: FutureWarning: Feature names only support names that are all strings. Got feature names with dtypes: ['date', 'int', 'str']. An error will be raised in 1.2.\n",
            "  FutureWarning,\n",
            "/home/students/s292129/.local/lib/python3.7/site-packages/sklearn/feature_extraction/text.py:1632: RuntimeWarning: divide by zero encountered in true_divide\n",
            "  idf = np.log(n_samples / df) + 1\n",
            "/home/students/s292129/.local/lib/python3.7/site-packages/sklearn/utils/validation.py:1692: FutureWarning: Feature names only support names that are all strings. Got feature names with dtypes: ['date', 'int', 'str']. An error will be raised in 1.2.\n",
            "  FutureWarning,\n",
            "/home/students/s292129/.local/lib/python3.7/site-packages/sklearn/feature_extraction/text.py:1632: RuntimeWarning: divide by zero encountered in true_divide\n",
            "  idf = np.log(n_samples / df) + 1\n",
            "/home/students/s292129/.local/lib/python3.7/site-packages/sklearn/utils/validation.py:1692: FutureWarning: Feature names only support names that are all strings. Got feature names with dtypes: ['date', 'int', 'str']. An error will be raised in 1.2.\n",
            "  FutureWarning,\n",
            "/home/students/s292129/.local/lib/python3.7/site-packages/sklearn/feature_extraction/text.py:1632: RuntimeWarning: divide by zero encountered in true_divide\n",
            "  idf = np.log(n_samples / df) + 1\n",
            "/home/students/s292129/.local/lib/python3.7/site-packages/sklearn/utils/validation.py:1692: FutureWarning: Feature names only support names that are all strings. Got feature names with dtypes: ['date', 'int', 'str']. An error will be raised in 1.2.\n",
            "  FutureWarning,\n",
            "/home/students/s292129/.local/lib/python3.7/site-packages/sklearn/feature_extraction/text.py:1632: RuntimeWarning: divide by zero encountered in true_divide\n",
            "  idf = np.log(n_samples / df) + 1\n",
            "/home/students/s292129/.local/lib/python3.7/site-packages/sklearn/utils/validation.py:1692: FutureWarning: Feature names only support names that are all strings. Got feature names with dtypes: ['date', 'int', 'str']. An error will be raised in 1.2.\n",
            "  FutureWarning,\n",
            "/home/students/s292129/.local/lib/python3.7/site-packages/sklearn/feature_extraction/text.py:1632: RuntimeWarning: divide by zero encountered in true_divide\n",
            "  idf = np.log(n_samples / df) + 1\n"
          ]
        },
        {
          "name": "stdout",
          "output_type": "stream",
          "text": [
            "+---------------------+----------------------------------------------------------+\n",
            "|        Model        |                         F1 macro                         |\n",
            "+---------------------+----------------------------------------------------------+\n",
            "|    random forest    | [0.78649333 0.79386328 0.79019595 0.78528319 0.78380481] |\n",
            "| logistic regression | [0.85499166 0.85672041 0.85481362 0.85322957 0.85742865] |\n",
            "|      linear svc     | [0.84361729 0.84695259 0.84418423 0.84348806 0.84836944] |\n",
            "+---------------------+----------------------------------------------------------+\n"
          ]
        }
      ],
      "source": [
        "vectorizer = TfidfVectorizer(tokenizer=tknzr, max_features=60000, max_df=0.5, min_df=1, ngram_range=(1, 3))\n",
        "t = PrettyTable()\n",
        "t.field_names = ['Model', 'F1 macro']\n",
        "\n",
        "# construct the column transfomer\n",
        "column_transformer = ColumnTransformer(\n",
        "    [('tfidf', vectorizer, 'text')],\n",
        "    remainder='passthrough')\n",
        "\n",
        "for model, name in zip(models, names):\n",
        "    pipe = Pipeline([\n",
        "                ('ct', column_transformer),\n",
        "                ('classify', model)\n",
        "                ])\n",
        "    scores = cross_val_score(pipe, df.drop(columns=['sentiment', 'flag', 'ids']), df.sentiment, cv=5, scoring='f1_macro')\n",
        "    t.add_row([name, scores])\n",
        "print(t)"
      ]
    },
    {
      "cell_type": "markdown",
      "metadata": {
        "id": "ZyJpHQkvvPEp"
      },
      "source": [
        "Let's test SVC too:"
      ]
    },
    {
      "cell_type": "code",
      "execution_count": null,
      "metadata": {
        "id": "kiUkNhW7oL1y"
      },
      "outputs": [],
      "source": [
        "vectorizer = TfidfVectorizer(tokenizer=tknzr, max_features=60000, max_df=0.5, min_df=1, ngram_range=(1, 3))\n",
        "\n",
        "column_transformer = ColumnTransformer(\n",
        "    [('tfidf', vectorizer, 'text')],\n",
        "    remainder='passthrough')\n",
        "\n",
        "svm = SVC()\n",
        "\n",
        "pipe = Pipeline([\n",
        "            ('ct', column_transformer),\n",
        "            ('classify', svm)\n",
        "            ])\n",
        "X_train, X_test, y_train, y_test = train_test_split(df.drop(columns=['sentiment', 'flag', 'ids']), df.sentiment, test_size=0.2, random_state=42)\n",
        "pipe.fit(X_train, y_train)"
      ]
    },
    {
      "cell_type": "code",
      "execution_count": null,
      "metadata": {
        "id": "ndjjY0B1oL1y"
      },
      "outputs": [],
      "source": [
        "y_pred = pipe.predict(X_test)"
      ]
    },
    {
      "cell_type": "code",
      "execution_count": null,
      "metadata": {
        "id": "B-gwUeC2oL1y"
      },
      "outputs": [],
      "source": [
        "print(\"Test accuracy\", accuracy_score(y_test, y_pred))\n",
        "print(\"Test f1 score: \",f1_score(y_test, y_pred, average='macro'))"
      ]
    },
    {
      "cell_type": "code",
      "execution_count": null,
      "metadata": {
        "id": "oB87YHYNoL1y"
      },
      "outputs": [],
      "source": [
        "print(classification_report(y_test, y_pred))"
      ]
    },
    {
      "cell_type": "code",
      "execution_count": null,
      "metadata": {
        "id": "veLKrdkNoL1z"
      },
      "outputs": [],
      "source": [
        "print(confusion_matrix(y_test, y_pred))"
      ]
    },
    {
      "cell_type": "markdown",
      "metadata": {
        "id": "IsK8ypNfoL1z"
      },
      "source": [
        "# Model hyperparameters tuning"
      ]
    },
    {
      "cell_type": "markdown",
      "metadata": {
        "id": "Jb8uxwyqoL1z"
      },
      "source": [
        "Let's make a grid search for our chosen model:"
      ]
    },
    {
      "cell_type": "code",
      "execution_count": null,
      "metadata": {
        "id": "lNHnPh6qoL1z"
      },
      "outputs": [],
      "source": [
        "# initialise model and vectorizers\n",
        "model = LogisticRegression(max_iter=2000, n_jobs=-1)\n",
        "vectorizer = TfidfVectorizer(tokenizer=tknzr, max_features=60000, max_df=0.5, min_df=1, ngram_range=(1, 3))\n",
        "\n",
        "# construct the column transfomer\n",
        "column_transformer = ColumnTransformer(\n",
        "    [('tfidf', vectorizer, 'text')],\n",
        "    remainder='passthrough')\n",
        "\n",
        "#model.fit(X_transf, y)\n",
        "pipe = Pipeline([\n",
        "                  ('ct', column_transformer),\n",
        "                  ('classifier', model)\n",
        "                ])"
      ]
    },
    {
      "cell_type": "code",
      "execution_count": null,
      "metadata": {
        "id": "7iX6jUzHoL10",
        "jupyter": {
          "outputs_hidden": true
        }
      },
      "outputs": [],
      "source": [
        "param_grid = [\n",
        "    {'classifier__C' : np.logspace(-4, 4, 20)}\n",
        "]\n",
        "\n",
        "# Create grid search object\n",
        "\n",
        "gs = GridSearchCV(pipe,\n",
        "             param_grid=param_grid,       \n",
        "             cv=5,\n",
        "             scoring='f1_macro',\n",
        "             refit=True,\n",
        "             verbose=True)\n",
        "\n",
        "gs.fit(X, y)"
      ]
    },
    {
      "cell_type": "code",
      "execution_count": null,
      "metadata": {
        "id": "nBiHAgP8oL10",
        "outputId": "669a16c4-73bd-4fc6-bc37-d1700896d2b8"
      },
      "outputs": [
        {
          "data": {
            "text/plain": [
              "{'classifier__C': 1.623776739188721}"
            ]
          },
          "execution_count": 22,
          "metadata": {},
          "output_type": "execute_result"
        }
      ],
      "source": [
        "gs.best_params_"
      ]
    },
    {
      "cell_type": "code",
      "execution_count": null,
      "metadata": {
        "id": "_hFqOg8uoL10",
        "jupyter": {
          "outputs_hidden": true
        }
      },
      "outputs": [],
      "source": [
        "vectorizer = TfidfVectorizer(tokenizer=tknzr, max_features=60000, max_df=0.5, min_df=1, ngram_range=(1, 3))\n",
        "\n",
        "column_transformer = ColumnTransformer(\n",
        "    [('tfidf', vectorizer, 'text')],\n",
        "    remainder='passthrough')\n",
        "\n",
        "clf = LogisticRegression(C=1.623776739188721, max_iter=2000, n_jobs=-1)\n",
        "\n",
        "pipe = Pipeline([\n",
        "            ('ct', column_transformer),\n",
        "            ('classify', clf)\n",
        "            ])\n",
        "\n",
        "scores = cross_val_score(pipe, df.drop(columns=['sentiment', 'flag', 'ids']), df.sentiment, cv=5, scoring='f1_macro')"
      ]
    },
    {
      "cell_type": "code",
      "execution_count": null,
      "metadata": {
        "id": "hXFcrPEmoL12",
        "outputId": "01ffe16b-e27b-43f0-c123-51f496cc5c65"
      },
      "outputs": [
        {
          "name": "stdout",
          "output_type": "stream",
          "text": [
            "              precision    recall  f1-score   support\n",
            "\n",
            "           0       0.86      0.80      0.83     19068\n",
            "           1       0.86      0.91      0.88     25931\n",
            "\n",
            "    accuracy                           0.86     44999\n",
            "   macro avg       0.86      0.85      0.86     44999\n",
            "weighted avg       0.86      0.86      0.86     44999\n",
            "\n"
          ]
        }
      ],
      "source": [
        "print(classification_report(y_test, y_pred))"
      ]
    },
    {
      "cell_type": "markdown",
      "metadata": {
        "id": "8pjHKbB9oL12"
      },
      "source": [
        "Let's plot confusion matrix and ROC curve for Logistic Regression:"
      ]
    },
    {
      "cell_type": "code",
      "execution_count": null,
      "metadata": {
        "id": "xsKG05nJoL12",
        "outputId": "7fe47d2a-5370-40bb-94c4-fbfc706165f0"
      },
      "outputs": [
        {
          "data": {
            "image/png": "[encoded data removed]",
            "text/plain": [
              "<Figure size 432x288 with 2 Axes>"
            ]
          },
          "metadata": {
            "needs_background": "light"
          },
          "output_type": "display_data"
        }
      ],
      "source": [
        "# Conf Matrix\n",
        "ax = plt.subplot()\n",
        "sns.heatmap(confusion_matrix(y_test, y_pred), cmap='YlGnBu', annot=True, fmt='g', ax=ax);  #annot=True to annotate cells, ftm='g' to disable scientific notation\n",
        "\n",
        "# labels, title and ticks\n",
        "ax.set_xlabel('Predicted labels')\n",
        "ax.set_ylabel('True labels')\n",
        "ax.set_title('Confusion Matrix')\n",
        "ax.xaxis.set_ticklabels(['Negative', 'Positive']); ax.yaxis.set_ticklabels(['Negative', 'Positive'])\n",
        "ax.figure.savefig('conf_matrix.png')"
      ]
    },
    {
      "cell_type": "code",
      "execution_count": null,
      "metadata": {
        "id": "5bHzqFMjoL12",
        "outputId": "6b3a6daa-bd1e-4ba5-aaaf-a34bc7264ce1"
      },
      "outputs": [
        {
          "name": "stderr",
          "output_type": "stream",
          "text": [
            "/home/students/s292129/.local/lib/python3.7/site-packages/sklearn/utils/deprecation.py:87: FutureWarning: Function plot_roc_curve is deprecated; Function :func:`plot_roc_curve` is deprecated in 1.0 and will be removed in 1.2. Use one of the class methods: :meth:`sklearn.metric.RocCurveDisplay.from_predictions` or :meth:`sklearn.metric.RocCurveDisplay.from_estimator`.\n",
            "  warnings.warn(msg, category=FutureWarning)\n"
          ]
        },
        {
          "data": {
            "text/plain": [
              "<sklearn.metrics._plot.roc_curve.RocCurveDisplay at 0x7f1a44892150>"
            ]
          },
          "execution_count": 61,
          "metadata": {},
          "output_type": "execute_result"
        },
        {
          "data": {
            "image/png": "[encoded data removed]",
            "text/plain": [
              "<Figure size 432x288 with 1 Axes>"
            ]
          },
          "metadata": {
            "needs_background": "light"
          },
          "output_type": "display_data"
        }
      ],
      "source": [
        "plot_roc_curve(pipe, X_test, y_test)"
      ]
    },
    {
      "cell_type": "markdown",
      "metadata": {
        "id": "y3lu20vJvt13"
      },
      "source": [
        "Let's plot the learning curves:"
      ]
    },
    {
      "cell_type": "code",
      "execution_count": null,
      "metadata": {
        "collapsed": true,
        "id": "vBio2OGhoL13",
        "jupyter": {
          "outputs_hidden": true
        },
        "outputId": "5a2ccd4e-61ec-4357-a8f3-1bbdd3fc7b3d"
      },
      "outputs": [
        {
          "name": "stderr",
          "output_type": "stream",
          "text": [
            "/home/students/s292129/.local/lib/python3.7/site-packages/sklearn/utils/validation.py:1692: FutureWarning: Feature names only support names that are all strings. Got feature names with dtypes: ['date', 'int', 'str']. An error will be raised in 1.2.\n",
            "  FutureWarning,\n",
            "/home/students/s292129/.local/lib/python3.7/site-packages/sklearn/feature_extraction/text.py:1632: RuntimeWarning: divide by zero encountered in true_divide\n",
            "  idf = np.log(n_samples / df) + 1\n",
            "/home/students/s292129/.local/lib/python3.7/site-packages/sklearn/utils/validation.py:1692: FutureWarning: Feature names only support names that are all strings. Got feature names with dtypes: ['date', 'int', 'str']. An error will be raised in 1.2.\n",
            "  FutureWarning,\n",
            "/home/students/s292129/.local/lib/python3.7/site-packages/sklearn/feature_extraction/text.py:1632: RuntimeWarning: divide by zero encountered in true_divide\n",
            "  idf = np.log(n_samples / df) + 1\n",
            "/home/students/s292129/.local/lib/python3.7/site-packages/sklearn/utils/validation.py:1692: FutureWarning: Feature names only support names that are all strings. Got feature names with dtypes: ['date', 'int', 'str']. An error will be raised in 1.2.\n",
            "  FutureWarning,\n",
            "/home/students/s292129/.local/lib/python3.7/site-packages/sklearn/feature_extraction/text.py:1632: RuntimeWarning: divide by zero encountered in true_divide\n",
            "  idf = np.log(n_samples / df) + 1\n",
            "/home/students/s292129/.local/lib/python3.7/site-packages/sklearn/utils/validation.py:1692: FutureWarning: Feature names only support names that are all strings. Got feature names with dtypes: ['date', 'int', 'str']. An error will be raised in 1.2.\n",
            "  FutureWarning,\n",
            "/home/students/s292129/.local/lib/python3.7/site-packages/sklearn/feature_extraction/text.py:1632: RuntimeWarning: divide by zero encountered in true_divide\n",
            "  idf = np.log(n_samples / df) + 1\n",
            "/home/students/s292129/.local/lib/python3.7/site-packages/sklearn/utils/validation.py:1692: FutureWarning: Feature names only support names that are all strings. Got feature names with dtypes: ['date', 'int', 'str']. An error will be raised in 1.2.\n",
            "  FutureWarning,\n",
            "/home/students/s292129/.local/lib/python3.7/site-packages/sklearn/feature_extraction/text.py:1632: RuntimeWarning: divide by zero encountered in true_divide\n",
            "  idf = np.log(n_samples / df) + 1\n",
            "/home/students/s292129/.local/lib/python3.7/site-packages/sklearn/utils/validation.py:1692: FutureWarning: Feature names only support names that are all strings. Got feature names with dtypes: ['date', 'int', 'str']. An error will be raised in 1.2.\n",
            "  FutureWarning,\n",
            "/home/students/s292129/.local/lib/python3.7/site-packages/sklearn/feature_extraction/text.py:1632: RuntimeWarning: divide by zero encountered in true_divide\n",
            "  idf = np.log(n_samples / df) + 1\n",
            "/home/students/s292129/.local/lib/python3.7/site-packages/sklearn/utils/validation.py:1692: FutureWarning: Feature names only support names that are all strings. Got feature names with dtypes: ['date', 'int', 'str']. An error will be raised in 1.2.\n",
            "  FutureWarning,\n",
            "/home/students/s292129/.local/lib/python3.7/site-packages/sklearn/feature_extraction/text.py:1632: RuntimeWarning: divide by zero encountered in true_divide\n",
            "  idf = np.log(n_samples / df) + 1\n",
            "/home/students/s292129/.local/lib/python3.7/site-packages/sklearn/utils/validation.py:1692: FutureWarning: Feature names only support names that are all strings. Got feature names with dtypes: ['date', 'int', 'str']. An error will be raised in 1.2.\n",
            "  FutureWarning,\n",
            "/home/students/s292129/.local/lib/python3.7/site-packages/sklearn/feature_extraction/text.py:1632: RuntimeWarning: divide by zero encountered in true_divide\n",
            "  idf = np.log(n_samples / df) + 1\n",
            "/home/students/s292129/.local/lib/python3.7/site-packages/sklearn/utils/validation.py:1692: FutureWarning: Feature names only support names that are all strings. Got feature names with dtypes: ['date', 'int', 'str']. An error will be raised in 1.2.\n",
            "  FutureWarning,\n",
            "/home/students/s292129/.local/lib/python3.7/site-packages/sklearn/feature_extraction/text.py:1632: RuntimeWarning: divide by zero encountered in true_divide\n",
            "  idf = np.log(n_samples / df) + 1\n",
            "/home/students/s292129/.local/lib/python3.7/site-packages/sklearn/utils/validation.py:1692: FutureWarning: Feature names only support names that are all strings. Got feature names with dtypes: ['date', 'int', 'str']. An error will be raised in 1.2.\n",
            "  FutureWarning,\n",
            "/home/students/s292129/.local/lib/python3.7/site-packages/sklearn/feature_extraction/text.py:1632: RuntimeWarning: divide by zero encountered in true_divide\n",
            "  idf = np.log(n_samples / df) + 1\n"
          ]
        }
      ],
      "source": [
        "vectorizer = TfidfVectorizer(tokenizer=tknzr, max_features=60000, max_df=0.5, min_df=1, ngram_range=(1, 3))\n",
        "column_transformer = ColumnTransformer(\n",
        "    [('tfidf', vectorizer, 'text')],\n",
        "    remainder='passthrough')\n",
        "\n",
        "clf = LogisticRegression(C=1.623776739188721, max_iter=2000, n_jobs=-1)\n",
        "\n",
        "pipe = Pipeline([\n",
        "            ('ct', column_transformer),\n",
        "            ('classify', clf)\n",
        "            ])\n",
        "\n",
        "f1_scores_test = []\n",
        "f1_scores_train = []\n",
        "for perc in (0.10, 0.20, 0.30, 0.40, 0.50, 0.60, 0.70, 0.80, 0.90, 1):\n",
        "    df_sample = df.sample(frac=perc)\n",
        "    X_train, X_test, y_train, y_test = train_test_split(df_sample.drop(columns=['sentiment', 'flag', 'ids']), df_sample.sentiment, test_size=0.2, random_state=42)\n",
        "    pipe.fit(X_train, y_train)\n",
        "    y_pred = pipe.predict(X_test)\n",
        "    f1_scores_test.append(f1_score(y_test, y_pred, average='macro'))\n",
        "    y_pred = pipe.predict(X_train)\n",
        "    f1_scores_train.append(f1_score(y_train, y_pred, average='macro'))\n"
      ]
    },
    {
      "cell_type": "code",
      "execution_count": null,
      "metadata": {
        "id": "2JPw4u57oL13",
        "outputId": "aeb97ff9-383f-4260-9862-2333242eada9"
      },
      "outputs": [
        {
          "data": {
            "image/png": "[encoded data removed]",
            "text/plain": [
              "<Figure size 432x288 with 1 Axes>"
            ]
          },
          "metadata": {
            "needs_background": "light"
          },
          "output_type": "display_data"
        }
      ],
      "source": [
        "# plot lines\n",
        "x = [0.10, 0.20, 0.30, 0.40, 0.50, 0.60, 0.70, 0.80, 0.90, 1]\n",
        "plt.plot(x, f1_scores_train, label = \"Training f1 score\")\n",
        "plt.plot(x, f1_scores_test, label= \"Testing f1 score\")\n",
        "plt.legend()\n",
        "plt.xlabel(\"Percentage of data used\")\n",
        "plt.savefig('learning_curves.png')\n",
        "plt.show()"
      ]
    },
    {
      "cell_type": "markdown",
      "metadata": {
        "id": "MliNmzfeV_4V"
      },
      "source": [
        "# Submission"
      ]
    },
    {
      "cell_type": "code",
      "execution_count": null,
      "metadata": {
        "id": "WA5_tzmQWC3b"
      },
      "outputs": [],
      "source": [
        "df = pd.read_csv(\"DSL2122_january_dataset/evaluation.csv\", infer_datetime_format=True, parse_dates=[\"date\"], encoding='latin-1')"
      ]
    },
    {
      "cell_type": "code",
      "execution_count": null,
      "metadata": {
        "id": "EugSwoJ2u4eX"
      },
      "outputs": [],
      "source": [
        "# one-hot for user\n",
        "\n",
        "df = pd.concat([pd.DataFrame(pd.get_dummies(df.user)), df.drop(columns=['user'])], axis=1)\n",
        "\n",
        "# We use date, weekday, month and hour as features one hot encoded\n",
        "\n",
        "df['day_of_the_week'] = df['date'].dt.dayofweek\n",
        "df['day_of_the_week'] = df['day_of_the_week'].map({0: 'Mon', 1:'Tue', 2:'Wen', 3:'Thu', 4:'Fri', 5:'Sat', 6:'Sun'})\n",
        "df['_hour_'] = df['date'].dt.hour\n",
        "df['_month_'] = df['date'].dt.month\n",
        "df['_month_'] = df['_month_'].map({0: 'Jan', 1:'Feb', 2:'Mar', 3:'Apr', 4:'May', 5:'Jun', 6:'Jul', 7:'Aug', 8:'Sep', 9:'Oct', 10:'Nov', 11:'Dec'})\n",
        "df = pd.concat([pd.DataFrame(pd.get_dummies(df['day_of_the_week'])), \\\n",
        "               pd.DataFrame(pd.get_dummies(df['_hour_'])), pd.DataFrame(pd.get_dummies(df['_month_'])), df.drop(columns=['date', 'day_of_the_week', '_hour_', '_month_'])], axis=1)"
      ]
    },
    {
      "cell_type": "markdown",
      "metadata": {
        "id": "vPT2yJUpsDSg"
      },
      "source": [
        "Eval with pipeline:"
      ]
    },
    {
      "cell_type": "code",
      "execution_count": null,
      "metadata": {
        "id": "ZDHci-lzu4ea"
      },
      "outputs": [],
      "source": [
        "df['text'] = df['text'].map(lambda tweet: tweet_cleaner(tweet))"
      ]
    },
    {
      "cell_type": "code",
      "execution_count": null,
      "metadata": {
        "id": "s9Riblb0Zvw6"
      },
      "outputs": [],
      "source": [
        "y_eval = pipe.predict(df.drop(columns=['ids', 'flag']))\n",
        "submit = pd.Series(y_eval, range(len(y_eval)))\n",
        "submit.to_csv(\"eval_292129.csv\", index_label=\"Id\", header=[\"Predicted\"])"
      ]
    },
    {
      "cell_type": "markdown",
      "metadata": {
        "id": "wCqRW8qS9ncb"
      },
      "source": [
        "# EXTRA - Dealing with class imbalance:"
      ]
    },
    {
      "cell_type": "code",
      "execution_count": null,
      "metadata": {
        "id": "iWQAn7bHeTfr"
      },
      "outputs": [],
      "source": [
        "vectorizer = TfidfVectorizer()\n",
        "lr = LogisticRegression(max_iter = 1000, n_jobs=-1)"
      ]
    },
    {
      "cell_type": "code",
      "execution_count": null,
      "metadata": {
        "id": "TzTBSfEJYEbW"
      },
      "outputs": [],
      "source": [
        "def lr_cv(splits, X, Y, pipeline, average_method):\n",
        "    kfold = StratifiedKFold(n_splits=splits, shuffle=True, random_state=777)\n",
        "    accuracy = []\n",
        "    precision = []\n",
        "    recall = []\n",
        "    f1 = []\n",
        "    for train, test in kfold.split(X, Y):\n",
        "        lr_fit = pipeline.fit(X.iloc[train], Y.iloc[train])\n",
        "        prediction = lr_fit.predict(X.iloc[test])\n",
        "        scores = lr_fit.score(X.iloc[test],Y.iloc[test])\n",
        "        \n",
        "        accuracy.append(scores * 100)\n",
        "        precision.append(precision_score(Y.iloc[test], prediction, average=average_method)*100)\n",
        "        print('              negative         positive')\n",
        "        print('precision:', precision_score(Y.iloc[test], prediction, average=None))\n",
        "        recall.append(recall_score(Y.iloc[test], prediction, average=average_method)*100)\n",
        "        print('recall:   ', recall_score(Y.iloc[test], prediction, average=None))\n",
        "        f1.append(f1_score(Y.iloc[test], prediction, average=average_method)*100)\n",
        "        print('f1 score: ', f1_score(Y.iloc[test], prediction, average='macro'))\n",
        "        print('-' * 50)\n",
        "\n",
        "    print(\"accuracy: %.2f%% (+/- %.2f%%)\" % (np.mean(accuracy), np.std(accuracy)))\n",
        "    print(\"precision: %.2f%% (+/- %.2f%%)\" % (np.mean(precision), np.std(precision)))\n",
        "    print(\"recall: %.2f%% (+/- %.2f%%)\" % (np.mean(recall), np.std(recall)))\n",
        "    print(\"f1 score: %.2f%% (+/- %.2f%%)\" % (np.mean(f1), np.std(f1)))\n"
      ]
    },
    {
      "cell_type": "code",
      "execution_count": null,
      "metadata": {
        "colab": {
          "base_uri": "https://localhost:8080/"
        },
        "id": "jnwF3-Ney63J",
        "outputId": "8f0bb321-6c4a-484c-80f1-eae2b4cebc2b"
      },
      "outputs": [
        {
          "name": "stdout",
          "output_type": "stream",
          "text": [
            "              negative         positive\n",
            "precision: [0.77726007 0.8070073 ]\n",
            "recall:    [0.72119998 0.8494161 ]\n",
            "f1 score:  0.7879250916843603\n",
            "--------------------------------------------------\n",
            "              negative         positive\n",
            "precision: [0.77666477 0.80600824]\n",
            "recall:    [0.71946011 0.84926245]\n",
            "f1 score:  0.7870195134142617\n",
            "--------------------------------------------------\n",
            "              negative         positive\n",
            "precision: [0.77443652 0.80081139]\n",
            "recall:    [0.71009068 0.84929507]\n",
            "f1 score:  0.7826050196093102\n",
            "--------------------------------------------------\n",
            "              negative         positive\n",
            "precision: [0.77701163 0.80572657]\n",
            "recall:    [0.71884226 0.84967923]\n",
            "f1 score:  0.7869576648667258\n",
            "--------------------------------------------------\n",
            "              negative         positive\n",
            "precision: [0.7704487  0.80045813]\n",
            "recall:    [0.71065535 0.84572241]\n",
            "f1 score:  0.7809065179328762\n",
            "--------------------------------------------------\n",
            "accuracy: 79.28% (+/- 0.26%)\n",
            "precision: 78.96% (+/- 0.26%)\n",
            "recall: 78.24% (+/- 0.29%)\n",
            "f1 score: 78.51% (+/- 0.28%)\n"
          ]
        }
      ],
      "source": [
        "original_pipeline = Pipeline([\n",
        "    ('vectorizer', vectorizer),\n",
        "    ('classifier', lr)\n",
        "])\n",
        "\n",
        "lr_cv(5, df.text, df.sentiment, original_pipeline, 'macro')\n"
      ]
    },
    {
      "cell_type": "code",
      "execution_count": null,
      "metadata": {
        "id": "3e0y27zA-I9d"
      },
      "outputs": [],
      "source": [
        "vectorizer = TfidfVectorizer()\n",
        "testing_tfidf = vectorizer.fit_transform(df.text)\n",
        "\n",
        "smt = SMOTE(random_state=42, sampling_strategy=1, k_neighbors=1, n_jobs=-1)\n",
        "X_SMOTE, y_SMOTE = smt.fit_resample(testing_tfidf, df.sentiment)\n",
        "X_train, X_test, y_train, y_test = train_test_split(X_SMOTE, y_SMOTE, test_size=0.1, random_state=42)"
      ]
    },
    {
      "cell_type": "code",
      "execution_count": null,
      "metadata": {
        "colab": {
          "base_uri": "https://localhost:8080/"
        },
        "id": "OCIMWM27DeQA",
        "outputId": "53252a6a-2331-47a7-e108-654234c31d05"
      },
      "outputs": [
        {
          "data": {
            "text/plain": [
              "(260314, 156437)"
            ]
          },
          "execution_count": 31,
          "metadata": {},
          "output_type": "execute_result"
        }
      ],
      "source": [
        "X_SMOTE.shape"
      ]
    },
    {
      "cell_type": "code",
      "execution_count": null,
      "metadata": {
        "colab": {
          "base_uri": "https://localhost:8080/"
        },
        "id": "iiHx3-jgeTfs",
        "outputId": "6c2eff74-11b0-439b-f904-c1695f52db7c"
      },
      "outputs": [
        {
          "data": {
            "text/plain": [
              "(234282, 156437)"
            ]
          },
          "execution_count": 32,
          "metadata": {},
          "output_type": "execute_result"
        }
      ],
      "source": [
        "X_train.shape"
      ]
    },
    {
      "cell_type": "code",
      "execution_count": null,
      "metadata": {
        "colab": {
          "base_uri": "https://localhost:8080/"
        },
        "id": "C2VTRx1eeTfs",
        "outputId": "946430b7-d4f4-4163-9ba5-90526c2f6206"
      },
      "outputs": [
        {
          "name": "stdout",
          "output_type": "stream",
          "text": [
            "Accuracy:  0.7890288875230486\n",
            "f1 score:  0.788921927058263\n"
          ]
        }
      ],
      "source": [
        "log_clf = LogisticRegression(max_iter = 5000, n_jobs=-1)\n",
        "log_clf.fit(X_train, y_train)\n",
        "y_pred = log_clf.predict(X_test)\n",
        "\n",
        "print(\"Accuracy: \", accuracy_score(y_pred=y_pred, y_true=y_test))\n",
        "print(\"f1 score: \", f1_score(y_pred=y_pred, y_true=y_test, average='macro'))"
      ]
    },
    {
      "cell_type": "markdown",
      "metadata": {
        "id": "LgNj_bBVoL15"
      },
      "source": [
        "Let's try Random Over Sampling:"
      ]
    },
    {
      "cell_type": "code",
      "execution_count": null,
      "metadata": {
        "colab": {
          "base_uri": "https://localhost:8080/"
        },
        "id": "OFQZk45UeTfs",
        "outputId": "00e1ba83-99d6-4fc6-dcaa-964fee99241f"
      },
      "outputs": [
        {
          "name": "stdout",
          "output_type": "stream",
          "text": [
            "(260314, 156437)\n",
            "Accuracy:  0.7884526736324524\n",
            "f1 score:  0.7884283711429056\n"
          ]
        }
      ],
      "source": [
        "from imblearn.pipeline import make_pipeline\n",
        "from imblearn.over_sampling import SMOTE, RandomOverSampler\n",
        "\n",
        "ros = RandomOverSampler(random_state=777)\n",
        "X_ROS, y_ROS = ros.fit_resample(testing_tfidf, df.sentiment)\n",
        "print(X_ROS.shape)\n",
        "\n",
        "X_train, X_test, y_train, y_test = train_test_split(X_ROS, y_ROS, test_size=0.1, random_state=42)\n",
        "\n",
        "\n",
        "log_clf = LogisticRegression(max_iter = 5000, n_jobs=-1)\n",
        "log_clf.fit(X_train, y_train)\n",
        "y_pred = log_clf.predict(X_test)\n",
        "\n",
        "print(\"Accuracy: \", accuracy_score(y_pred=y_pred, y_true=y_test))\n",
        "print(\"f1 score: \", f1_score(y_pred=y_pred, y_true=y_test, average='macro'))"
      ]
    },
    {
      "cell_type": "markdown",
      "metadata": {
        "id": "3xo26InMv32K"
      },
      "source": [
        "The two approaches didn't improve base models' results."
      ]
    }
  ],
  "metadata": {
    "colab": {
      "collapsed_sections": [
        "pyrf3kvxslYD",
        "L2Gi-i70jfXn",
        "wCqRW8qS9ncb",
        "_0lBfYIDeTft",
        "MliNmzfeV_4V"
      ],
      "name": "Sentiment_Analysis_submission.ipynb",
      "provenance": []
    },
    "kernelspec": {
      "display_name": "Python 3",
      "language": "python",
      "name": "python3"
    },
    "language_info": {
      "codemirror_mode": {
        "name": "ipython",
        "version": 3
      },
      "file_extension": ".py",
      "mimetype": "text/x-python",
      "name": "python",
      "nbconvert_exporter": "python",
      "pygments_lexer": "ipython3",
      "version": "3.8.5"
    }
  },
  "nbformat": 4,
  "nbformat_minor": 0
}